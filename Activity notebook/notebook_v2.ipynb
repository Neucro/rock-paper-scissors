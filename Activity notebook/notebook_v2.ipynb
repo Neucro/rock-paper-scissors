{
 "cells": [
  {
   "cell_type": "markdown",
   "metadata": {
    "slideshow": {
     "slide_type": "slide"
    }
   },
   "source": [
    "# Building a convnet for ✊✋✌\n",
    "This presents how to build a convnet from scratch to classify images of rock-paper-scissors.  It is meant as a teaching activity to demonstrate the following concepts in practice:\n",
    "- how images are represented and handled in software\n",
    "- how to prepare a machine learning dataset\n",
    "- how a full machine learning pipeline looks\n",
    "- data preprocessing\n",
    "- data augmentation and its importance in a \n",
    "- overfitting, underfitting\n",
    "\n",
    "We use the high-level deep learning library Keras, but the concepts are general and we don't put much focus on the specifics of the code."
   ]
  },
  {
   "cell_type": "markdown",
   "metadata": {
    "slideshow": {
     "slide_type": "slide"
    }
   },
   "source": [
    "## Step 0: defining the problem\n",
    "What problem do we want to solve, exactly?  We want to build a piece of software that, given an image as input that represents an hand making one of the three ✊✋✌ gestures, produces as output a classification of the image in one of the three classes.\n",
    "\n",
    "In the following, we will adopt this convention\n",
    "- class 0 is ✊ rock\n",
    "- class 1 is ✋ paper\n",
    "- class 2 is ✌ scissors"
   ]
  },
  {
   "cell_type": "markdown",
   "metadata": {
    "slideshow": {
     "slide_type": "slide"
    }
   },
   "source": [
    "## Step 1: building a dataset\n",
    "We are starting from scratch, so we need to shoot our own dataset; the best option is that multiple students/groups shoot plenty of images in parallel and then the data is somehow collected.  Whatever the process, in the end we want to have all pics in three different directories, one per class.  Format can be either jpg or png, and landscape/portrait, aspect ratio and resolution don't matter and can be mixed.\n",
    "\n",
    "With some attention to logistics, this can be done in about 10-30 minutes.\n",
    "\n",
    "Guidelines for shooting images. \n",
    "- We don't need high resolution: use the lowest resolution/quality allowed by the phone (this reduces the size of the dataset and speeds up data transfer).\n",
    "- The hand must be more or less in the center of the image; it should not fill the whole image, but it should not be too small either.  ![caption](figures/guidelines.jpg)\n",
    "- we want the dataset to represent as much variability as possible: if we want the classifier to work for all hand orientations, try to have examples for all of them; if we want to handle many different lightling conditions, try to have some pictures for different lightings;\n",
    "- avoid poses that are ambiguous, unless you want to make your job harder: e.g., don't include in the dataset images of paper or scissors taken from the side;\n",
    "- avoid having two images in the dataset that are almost the same: change the camera and hand pose at least a little bit; this is important because in the following code we randomly split training and testing data.\n",
    "\n",
    "Remember that we need the images for each class to be in its own directory. To make this simpler, it helps to shoot first all images of rock, then all images of paper, then all images of scissors, and finally sort the images by time in the file manager and group them accordingly.\n",
    "\n",
    "Place all images in three directories named `c0/`, `c1/`, and `c2/`.  Make sure that each directory only contains image files."
   ]
  },
  {
   "cell_type": "markdown",
   "metadata": {
    "slideshow": {
     "slide_type": "slide"
    }
   },
   "source": [
    "## Step 2: read in images and have a look at them\n",
    "Let's first import what we need"
   ]
  },
  {
   "cell_type": "code",
   "execution_count": 1,
   "metadata": {},
   "outputs": [
    {
     "name": "stderr",
     "output_type": "stream",
     "text": [
      "/home/lale/anaconda3/envs/deep/lib/python3.6/site-packages/skimage/viewer/utils/core.py:10: UserWarning: Recommended matplotlib backend is `Agg` for full skimage.viewer functionality.\n",
      "  warn(\"Recommended matplotlib backend is `Agg` for full \"\n",
      "/home/lale/anaconda3/envs/deep/lib/python3.6/site-packages/h5py/__init__.py:36: FutureWarning: Conversion of the second argument of issubdtype from `float` to `np.floating` is deprecated. In future, it will be treated as `np.float64 == np.dtype(float).type`.\n",
      "  from ._conv import register_converters as _register_converters\n",
      "Using TensorFlow backend.\n"
     ]
    }
   ],
   "source": [
    "%matplotlib inline\n",
    "\n",
    "# General imports\n",
    "import matplotlib.pyplot as plt\n",
    "import pathlib\n",
    "import skimage\n",
    "import skimage.transform\n",
    "import skimage.viewer\n",
    "import pandas as pd\n",
    "import numpy as np\n",
    "import time\n",
    "import keras.utils.np_utils\n",
    "from tqdm import tqdm\n",
    "\n",
    "# Setup to show interactive jupyter widgets\n",
    "from IPython.display import Image, display\n",
    "from ipywidgets import interact, fixed\n",
    "import ipywidgets as widgets\n",
    "def imgplotList(i,data):\n",
    "    plt.figure(figsize=(10,10))\n",
    "    plt.imshow(data[i],interpolation=\"nearest\")\n",
    "    plt.show()"
   ]
  },
  {
   "cell_type": "code",
   "execution_count": 4,
   "metadata": {
    "slideshow": {
     "slide_type": "slide"
    }
   },
   "outputs": [
    {
     "name": "stdout",
     "output_type": "stream",
     "text": [
      "Found directory ..\\datasets\\final\\testing\\c2 containing class scissors\n",
      "Found directory ..\\datasets\\final\\D4\\c2 containing class scissors\n",
      "Found directory ..\\datasets\\final\\D7\\c1 containing class paper\n",
      "Found directory ..\\datasets\\final\\D6\\c2 containing class scissors\n",
      "Found directory ..\\datasets\\final\\D6\\c0 containing class rock\n",
      "Found directory ..\\datasets\\final\\D6\\c1 containing class paper\n",
      "Found directory ..\\datasets\\final\\D4\\c0 containing class rock\n",
      "Found directory ..\\datasets\\final\\testing\\c1 containing class paper\n",
      "Found directory ..\\datasets\\final\\D1\\c1 containing class paper\n",
      "Found directory ..\\datasets\\final\\testing\\c0 containing class rock\n",
      "Found directory ..\\datasets\\final\\D2\\c0 containing class rock\n",
      "Found directory ..\\datasets\\final\\D2\\c1 containing class paper\n",
      "Found directory ..\\datasets\\final\\D1\\c0 containing class rock\n",
      "Found directory ..\\datasets\\final\\D5\\c0 containing class rock\n",
      "Found directory ..\\datasets\\final\\D5\\c1 containing class paper\n",
      "Found directory ..\\datasets\\final\\D3\\c0 containing class rock\n",
      "Found directory ..\\datasets\\final\\D7\\c0 containing class rock\n",
      "Found directory ..\\datasets\\final\\D7\\c2 containing class scissors\n",
      "Found directory ..\\datasets\\final\\D3\\c2 containing class scissors\n",
      "Found directory ..\\datasets\\final\\D5\\c2 containing class scissors\n",
      "Found directory ..\\datasets\\final\\D1\\c2 containing class scissors\n",
      "Found directory ..\\datasets\\final\\D3\\c1 containing class paper\n",
      "Found directory ..\\datasets\\final\\D4\\c1 containing class paper\n",
      "Found directory ..\\datasets\\final\\D2\\c2 containing class scissors\n"
     ]
    }
   ],
   "source": [
    "# Define where datasets are located\n",
    "dataset_directory = pathlib.Path(\"..\")/\"datasets\"/\"final\"\n",
    "\n",
    "# Define which datasets we should consider.\n",
    "# Each dataset is a directory withing dataset_directory\n",
    "# and must contain three subdirectories: (c0, c1, c2) for (rock, paper, scissors).\n",
    "dnames = [\"D{}\".format(n) for n in range(8,10)] + [\"testing\"]\n",
    "\n",
    "\n",
    "# Now check the data\n",
    "ddirs=[dataset_directory/dn for dn in dnames] # directories of the dataset\n",
    "cdirs={}\n",
    "for ddir in ddirs:\n",
    "    cdirs.update({ddir/\"c0\":0,\n",
    "                  ddir/\"c1\":1,\n",
    "                  ddir/\"c2\":2})\n",
    "names = [\"rock\", \"paper\", \"scissors\"]\n",
    "for cdir,cdir_class in cdirs.items():\n",
    "    assert(cdir.exists())\n",
    "    print(\"Found directory {} containing class {}\".format(cdir,names[cdir_class]))"
   ]
  },
  {
   "cell_type": "markdown",
   "metadata": {
    "slideshow": {
     "slide_type": "slide"
    }
   },
   "source": [
    "Let's try to read the first image from the first directory, and visualize it.  Note that the tool allows you to zoom in order to see the individual pixels."
   ]
  },
  {
   "cell_type": "code",
   "execution_count": 5,
   "metadata": {},
   "outputs": [
    {
     "data": {
      "text/plain": [
       "[]"
      ]
     },
     "execution_count": 5,
     "metadata": {},
     "output_type": "execute_result"
    }
   ],
   "source": [
    "im = skimage.io.imread(list(list(cdirs.keys())[0].glob(\"*\"))[0])\n",
    "viewer=skimage.viewer.ImageViewer(im)\n",
    "viewer.show()\n",
    "# Note: you have to close the window to continue"
   ]
  },
  {
   "cell_type": "markdown",
   "metadata": {
    "slideshow": {
     "slide_type": "slide"
    }
   },
   "source": [
    "We now read in all images, cut the central square (with an edge as long as the shorter dimension), and resize it to 200x200 pixels.  Whatever the initial size and orientation of the images, we will end up with a bunch of 200x200 RGB squares in uint8.  These should be small enough that unless the dataset is huge, all should fit in memory.\n",
    "\n",
    "We make a pandas dataframe with the data, with two columns:\n",
    "* image: a $200 \\times 200 \\times 3$ uint8 numpy array\n",
    "* label: on of 0, 1 or 2\n",
    "* file: the full path of the image"
   ]
  },
  {
   "cell_type": "code",
   "execution_count": 6,
   "metadata": {
    "scrolled": false
   },
   "outputs": [
    {
     "name": "stderr",
     "output_type": "stream",
     "text": [
      "  8%|▊         | 2/24 [00:02<00:28,  1.30s/it]C:\\Users\\Fabrizio\\Anaconda3\\lib\\site-packages\\ipykernel_launcher.py:12: UserWarning: ignoring ..\\datasets\\final\\D7\\c1\\.DS_Store due to exception cannot identify image file 'C:\\\\Users\\\\Fabrizio\\\\Documents\\\\GitHub\\\\rock-paper-scissors\\\\datasets\\\\final\\\\D7\\\\c1\\\\.DS_Store'\n",
      "  if sys.path[0] == '':\n",
      " 67%|██████▋   | 16/24 [00:37<00:18,  2.36s/it]C:\\Users\\Fabrizio\\Anaconda3\\lib\\site-packages\\ipykernel_launcher.py:12: UserWarning: ignoring ..\\datasets\\final\\D7\\c0\\.DS_Store due to exception cannot identify image file 'C:\\\\Users\\\\Fabrizio\\\\Documents\\\\GitHub\\\\rock-paper-scissors\\\\datasets\\\\final\\\\D7\\\\c0\\\\.DS_Store'\n",
      "  if sys.path[0] == '':\n",
      " 71%|███████   | 17/24 [00:43<00:18,  2.59s/it]C:\\Users\\Fabrizio\\Anaconda3\\lib\\site-packages\\ipykernel_launcher.py:12: UserWarning: ignoring ..\\datasets\\final\\D7\\c2\\.DS_Store due to exception cannot identify image file 'C:\\\\Users\\\\Fabrizio\\\\Documents\\\\GitHub\\\\rock-paper-scissors\\\\datasets\\\\final\\\\D7\\\\c2\\\\.DS_Store'\n",
      "  if sys.path[0] == '':\n",
      "100%|██████████| 24/24 [01:03<00:00,  2.63s/it]\n"
     ]
    },
    {
     "name": "stdout",
     "output_type": "stream",
     "text": [
      "Done\n"
     ]
    },
    {
     "name": "stderr",
     "output_type": "stream",
     "text": [
      "\n"
     ]
    }
   ],
   "source": [
    "imagesize = 200\n",
    "\n",
    "dataset=[]\n",
    "\n",
    "import warnings\n",
    "\n",
    "for cdir,cn in tqdm(list(cdirs.items())):\n",
    "    for f in list(cdir.glob(\"*\")):\n",
    "        try:\n",
    "            im=skimage.io.imread(f)\n",
    "        except (OSError, ValueError) as e:\n",
    "            warnings.warn(\"ignoring {} due to exception {}\".format(f,str(e)))\n",
    "            continue\n",
    "            \n",
    "        h,w=im.shape[0:2] # height, width\n",
    "        sz=min(h,w)\n",
    "        im=im[(h//2-sz//2):(h//2+sz//2),(w//2-sz//2):(w//2+sz//2),:] # defines the central square        \n",
    "        with warnings.catch_warnings():\n",
    "            warnings.simplefilter(\"ignore\")\n",
    "            im=skimage.img_as_ubyte(skimage.transform.resize(im,(imagesize,imagesize))) # resize it to 500x500, whatever the original resolution\n",
    "            \n",
    "        dataset.append({\n",
    "            \"file\":f,\n",
    "            \"label\":cn,\n",
    "            \"image\":im})\n",
    "        \n",
    "print(\"Done\")"
   ]
  },
  {
   "cell_type": "markdown",
   "metadata": {
    "slideshow": {
     "slide_type": "slide"
    }
   },
   "source": [
    "We make a pandas dataframe for the dataset, and create a \"dn\" field containing the name of the dataset from which each image comes (as the name of the directory it was read from)."
   ]
  },
  {
   "cell_type": "code",
   "execution_count": 7,
   "metadata": {
    "collapsed": true
   },
   "outputs": [],
   "source": [
    "dataset=pd.DataFrame(dataset)\n",
    "dataset[\"dn\"]=dataset[\"file\"].apply(lambda x: x.parent.parts[-2])"
   ]
  },
  {
   "cell_type": "markdown",
   "metadata": {
    "slideshow": {
     "slide_type": "fragment"
    }
   },
   "source": [
    "Here are 10 random rows from that dataset"
   ]
  },
  {
   "cell_type": "code",
   "execution_count": 8,
   "metadata": {},
   "outputs": [
    {
     "data": {
      "text/html": [
       "<style  type=\"text/css\" >\n",
       "</style>  \n",
       "<table id=\"T_f9f2778a_2c42_11e8_bf87_c159740c32bf\" > \n",
       "<thead>    <tr> \n",
       "        <th class=\"blank level0\" ></th> \n",
       "        <th class=\"col_heading level0 col0\" >image</th> \n",
       "        <th class=\"col_heading level0 col1\" >label</th> \n",
       "        <th class=\"col_heading level0 col2\" >file</th> \n",
       "        <th class=\"col_heading level0 col3\" >dn</th> \n",
       "    </tr></thead> \n",
       "<tbody>    <tr> \n",
       "        <th id=\"T_f9f2778a_2c42_11e8_bf87_c159740c32bf\" class=\"row_heading level0 row0\" >522</th> \n",
       "        <td id=\"T_f9f2778a_2c42_11e8_bf87_c159740c32bfrow0_col0\" class=\"data row0 col0\" >[[[131  80  15]\n",
       "  [130  79  14]\n",
       "  [129  78  15]\n",
       "  ..., \n",
       "  [163 121  47]\n",
       "  [152 110  35]\n",
       "  [167 125  49]]\n",
       "\n",
       " [[130  79  14]\n",
       "  [130  79  14]\n",
       "  [131  80  15]\n",
       "  ..., \n",
       "  [164 122  48]\n",
       "  [163 121  46]\n",
       "  [162 120  44]]\n",
       "\n",
       " [[130  79  14]\n",
       "  [130  79  14]\n",
       "  [131  80  15]\n",
       "  ..., \n",
       "  [164 121  44]\n",
       "  [167 123  48]\n",
       "  [162 118  43]]\n",
       "\n",
       " ..., \n",
       " [[171 152 110]\n",
       "  [171 152 110]\n",
       "  [172 153 111]\n",
       "  ..., \n",
       "  [ 68  32   6]\n",
       "  [ 69  33   7]\n",
       "  [ 68  32   6]]\n",
       "\n",
       " [[169 150 108]\n",
       "  [169 150 108]\n",
       "  [170 151 109]\n",
       "  ..., \n",
       "  [ 69  33   7]\n",
       "  [ 70  34   8]\n",
       "  [ 69  33   7]]\n",
       "\n",
       " [[169 150 108]\n",
       "  [169 150 108]\n",
       "  [170 151 109]\n",
       "  ..., \n",
       "  [ 69  33   7]\n",
       "  [ 70  34   8]\n",
       "  [ 69  33   7]]]</td> \n",
       "        <td id=\"T_f9f2778a_2c42_11e8_bf87_c159740c32bfrow0_col1\" class=\"data row0 col1\" >0</td> \n",
       "        <td id=\"T_f9f2778a_2c42_11e8_bf87_c159740c32bfrow0_col2\" class=\"data row0 col2\" >..\\datasets\\final\\D6\\c0\\IMG_20180119_102212.jpg</td> \n",
       "        <td id=\"T_f9f2778a_2c42_11e8_bf87_c159740c32bfrow0_col3\" class=\"data row0 col3\" >D6</td> \n",
       "    </tr>    <tr> \n",
       "        <th id=\"T_f9f2778a_2c42_11e8_bf87_c159740c32bf\" class=\"row_heading level0 row1\" >1363</th> \n",
       "        <td id=\"T_f9f2778a_2c42_11e8_bf87_c159740c32bfrow1_col0\" class=\"data row1 col0\" >[[[ 56  54  41]\n",
       "  [ 47  42  39]\n",
       "  [ 50  46  37]\n",
       "  ..., \n",
       "  [200 166 129]\n",
       "  [199 163 124]\n",
       "  [201 164 122]]\n",
       "\n",
       " [[ 58  51  41]\n",
       "  [ 60  54  48]\n",
       "  [ 46  38  32]\n",
       "  ..., \n",
       "  [202 165 125]\n",
       "  [197 160 121]\n",
       "  [200 163 123]]\n",
       "\n",
       " [[ 53  47  35]\n",
       "  [ 60  53  44]\n",
       "  [ 56  49  41]\n",
       "  ..., \n",
       "  [200 165 124]\n",
       "  [199 161 123]\n",
       "  [198 160 123]]\n",
       "\n",
       " ..., \n",
       " [[ 49  63  76]\n",
       "  [ 44  60  73]\n",
       "  [ 46  60  75]\n",
       "  ..., \n",
       "  [ 38  21  21]\n",
       "  [ 32  17  16]\n",
       "  [ 22  11  10]]\n",
       "\n",
       " [[ 48  65  72]\n",
       "  [ 50  66  77]\n",
       "  [ 49  66  80]\n",
       "  ..., \n",
       "  [ 30  16  15]\n",
       "  [ 28  15  14]\n",
       "  [ 22  11  10]]\n",
       "\n",
       " [[ 43  62  69]\n",
       "  [ 52  68  81]\n",
       "  [ 50  67  81]\n",
       "  ..., \n",
       "  [ 22  12  10]\n",
       "  [ 23  12   9]\n",
       "  [ 25  13   9]]]</td> \n",
       "        <td id=\"T_f9f2778a_2c42_11e8_bf87_c159740c32bfrow1_col1\" class=\"data row1 col1\" >2</td> \n",
       "        <td id=\"T_f9f2778a_2c42_11e8_bf87_c159740c32bfrow1_col2\" class=\"data row1 col2\" >..\\datasets\\final\\D7\\c2\\20180219111439-Scissors-1a676d1bca886251.jpg</td> \n",
       "        <td id=\"T_f9f2778a_2c42_11e8_bf87_c159740c32bfrow1_col3\" class=\"data row1 col3\" >D7</td> \n",
       "    </tr>    <tr> \n",
       "        <th id=\"T_f9f2778a_2c42_11e8_bf87_c159740c32bf\" class=\"row_heading level0 row2\" >1700</th> \n",
       "        <td id=\"T_f9f2778a_2c42_11e8_bf87_c159740c32bfrow2_col0\" class=\"data row2 col0\" >[[[135 142 132]\n",
       "  [138 144 134]\n",
       "  [146 150 142]\n",
       "  ..., \n",
       "  [ 81  74  56]\n",
       "  [ 82  74  62]\n",
       "  [ 80  72  61]]\n",
       "\n",
       " [[144 154 143]\n",
       "  [143 151 141]\n",
       "  [145 152 144]\n",
       "  ..., \n",
       "  [ 83  76  60]\n",
       "  [ 83  75  62]\n",
       "  [ 82  74  61]]\n",
       "\n",
       " [[149 162 151]\n",
       "  [151 163 153]\n",
       "  [151 162 153]\n",
       "  ..., \n",
       "  [ 83  75  62]\n",
       "  [ 83  75  60]\n",
       "  [ 83  75  60]]\n",
       "\n",
       " ..., \n",
       " [[164 177 177]\n",
       "  [165 179 179]\n",
       "  [168 182 182]\n",
       "  ..., \n",
       "  [114  95  88]\n",
       "  [116  97  90]\n",
       "  [119  99  92]]\n",
       "\n",
       " [[166 177 179]\n",
       "  [169 181 182]\n",
       "  [166 180 180]\n",
       "  ..., \n",
       "  [112  97  90]\n",
       "  [113  96  88]\n",
       "  [114  97  90]]\n",
       "\n",
       " [[168 178 180]\n",
       "  [167 178 180]\n",
       "  [165 179 179]\n",
       "  ..., \n",
       "  [112  97  90]\n",
       "  [114  97  89]\n",
       "  [115  98  91]]]</td> \n",
       "        <td id=\"T_f9f2778a_2c42_11e8_bf87_c159740c32bfrow2_col1\" class=\"data row2 col1\" >1</td> \n",
       "        <td id=\"T_f9f2778a_2c42_11e8_bf87_c159740c32bfrow2_col2\" class=\"data row2 col2\" >..\\datasets\\final\\D3\\c1\\20170705_122158.jpg</td> \n",
       "        <td id=\"T_f9f2778a_2c42_11e8_bf87_c159740c32bfrow2_col3\" class=\"data row2 col3\" >D3</td> \n",
       "    </tr>    <tr> \n",
       "        <th id=\"T_f9f2778a_2c42_11e8_bf87_c159740c32bf\" class=\"row_heading level0 row3\" >232</th> \n",
       "        <td id=\"T_f9f2778a_2c42_11e8_bf87_c159740c32bfrow3_col0\" class=\"data row3 col0\" >[[[253 254 246]\n",
       "  [253 254 247]\n",
       "  [255 254 249]\n",
       "  ..., \n",
       "  [ 44  30  11]\n",
       "  [ 47  25  14]\n",
       "  [ 45  28  13]]\n",
       "\n",
       " [[246 246 241]\n",
       "  [248 248 242]\n",
       "  [222 220 218]\n",
       "  ..., \n",
       "  [ 39  25  16]\n",
       "  [ 41  23  12]\n",
       "  [ 39  24   9]]\n",
       "\n",
       " [[218 211 186]\n",
       "  [215 207 175]\n",
       "  [213 201 171]\n",
       "  ..., \n",
       "  [ 32  21  12]\n",
       "  [ 36  21  10]\n",
       "  [ 40  24  11]]\n",
       "\n",
       " ..., \n",
       " [[ 23  28  25]\n",
       "  [ 19  22  17]\n",
       "  [ 19  23  21]\n",
       "  ..., \n",
       "  [  9  11  10]\n",
       "  [  8  12  10]\n",
       "  [  3   5   4]]\n",
       "\n",
       " [[ 16  22  17]\n",
       "  [ 15  21  16]\n",
       "  [ 23  27  19]\n",
       "  ..., \n",
       "  [  5  10   7]\n",
       "  [  8  14  12]\n",
       "  [  8  13  13]]\n",
       "\n",
       " [[ 17  25  17]\n",
       "  [ 22  27  23]\n",
       "  [ 17  19  13]\n",
       "  ..., \n",
       "  [  8  14  12]\n",
       "  [ 10  15  14]\n",
       "  [  8  14  13]]]</td> \n",
       "        <td id=\"T_f9f2778a_2c42_11e8_bf87_c159740c32bfrow3_col1\" class=\"data row3 col1\" >1</td> \n",
       "        <td id=\"T_f9f2778a_2c42_11e8_bf87_c159740c32bfrow3_col2\" class=\"data row3 col2\" >..\\datasets\\final\\D7\\c1\\20180219140039-Paper-f981ba423d564f6c.jpg</td> \n",
       "        <td id=\"T_f9f2778a_2c42_11e8_bf87_c159740c32bfrow3_col3\" class=\"data row3 col3\" >D7</td> \n",
       "    </tr>    <tr> \n",
       "        <th id=\"T_f9f2778a_2c42_11e8_bf87_c159740c32bf\" class=\"row_heading level0 row4\" >303</th> \n",
       "        <td id=\"T_f9f2778a_2c42_11e8_bf87_c159740c32bfrow4_col0\" class=\"data row4 col0\" >[[[ 58  39  38]\n",
       "  [ 59  41  40]\n",
       "  [ 65  49  47]\n",
       "  ..., \n",
       "  [226 229 210]\n",
       "  [225 228 209]\n",
       "  [224 227 208]]\n",
       "\n",
       " [[105  39  44]\n",
       "  [104  38  43]\n",
       "  [ 99  36  40]\n",
       "  ..., \n",
       "  [213 218 198]\n",
       "  [215 220 201]\n",
       "  [219 225 205]]\n",
       "\n",
       " [[120  31  36]\n",
       "  [119  31  35]\n",
       "  [115  29  33]\n",
       "  ..., \n",
       "  [177 185 164]\n",
       "  [190 198 180]\n",
       "  [202 211 193]]\n",
       "\n",
       " ..., \n",
       " [[230 235 229]\n",
       "  [227 236 231]\n",
       "  [202 210 205]\n",
       "  ..., \n",
       "  [196 191 169]\n",
       "  [195 190 169]\n",
       "  [196 191 171]]\n",
       "\n",
       " [[227 232 228]\n",
       "  [225 231 227]\n",
       "  [219 226 222]\n",
       "  ..., \n",
       "  [195 190 168]\n",
       "  [195 190 168]\n",
       "  [197 192 171]]\n",
       "\n",
       " [[228 233 229]\n",
       "  [228 233 229]\n",
       "  [226 232 228]\n",
       "  ..., \n",
       "  [195 190 168]\n",
       "  [194 189 167]\n",
       "  [196 191 169]]]</td> \n",
       "        <td id=\"T_f9f2778a_2c42_11e8_bf87_c159740c32bfrow4_col1\" class=\"data row4 col1\" >2</td> \n",
       "        <td id=\"T_f9f2778a_2c42_11e8_bf87_c159740c32bfrow4_col2\" class=\"data row4 col2\" >..\\datasets\\final\\D6\\c2\\IMG_20180119_100911.jpg</td> \n",
       "        <td id=\"T_f9f2778a_2c42_11e8_bf87_c159740c32bfrow4_col3\" class=\"data row4 col3\" >D6</td> \n",
       "    </tr>    <tr> \n",
       "        <th id=\"T_f9f2778a_2c42_11e8_bf87_c159740c32bf\" class=\"row_heading level0 row5\" >1557</th> \n",
       "        <td id=\"T_f9f2778a_2c42_11e8_bf87_c159740c32bfrow5_col0\" class=\"data row5 col0\" >[[[ 27  48  29]\n",
       "  [ 31  50  31]\n",
       "  [ 21  39  23]\n",
       "  ..., \n",
       "  [166 170 171]\n",
       "  [164 169 171]\n",
       "  [163 168 171]]\n",
       "\n",
       " [[ 23  42  26]\n",
       "  [ 25  43  28]\n",
       "  [ 21  38  23]\n",
       "  ..., \n",
       "  [165 169 170]\n",
       "  [162 167 169]\n",
       "  [163 168 171]]\n",
       "\n",
       " [[ 17  35  22]\n",
       "  [ 15  32  18]\n",
       "  [ 23  39  26]\n",
       "  ..., \n",
       "  [165 171 169]\n",
       "  [165 171 173]\n",
       "  [165 170 173]]\n",
       "\n",
       " ..., \n",
       " [[ 25  26  20]\n",
       "  [ 22  23  17]\n",
       "  [ 25  26  20]\n",
       "  ..., \n",
       "  [ 15  15  15]\n",
       "  [ 19  16  15]\n",
       "  [ 20  16  15]]\n",
       "\n",
       " [[ 27  27  24]\n",
       "  [ 24  25  20]\n",
       "  [ 26  27  21]\n",
       "  ..., \n",
       "  [ 18  15  16]\n",
       "  [ 16  13  14]\n",
       "  [ 16  13  14]]\n",
       "\n",
       " [[ 24  24  22]\n",
       "  [ 24  25  20]\n",
       "  [ 25  26  20]\n",
       "  ..., \n",
       "  [ 19  14  16]\n",
       "  [ 17  14  15]\n",
       "  [ 16  14  15]]]</td> \n",
       "        <td id=\"T_f9f2778a_2c42_11e8_bf87_c159740c32bfrow5_col1\" class=\"data row5 col1\" >2</td> \n",
       "        <td id=\"T_f9f2778a_2c42_11e8_bf87_c159740c32bfrow5_col2\" class=\"data row5 col2\" >..\\datasets\\final\\D3\\c2\\20170705_112220.jpg</td> \n",
       "        <td id=\"T_f9f2778a_2c42_11e8_bf87_c159740c32bfrow5_col3\" class=\"data row5 col3\" >D3</td> \n",
       "    </tr>    <tr> \n",
       "        <th id=\"T_f9f2778a_2c42_11e8_bf87_c159740c32bf\" class=\"row_heading level0 row6\" >1728</th> \n",
       "        <td id=\"T_f9f2778a_2c42_11e8_bf87_c159740c32bfrow6_col0\" class=\"data row6 col0\" >[[[252 252 252]\n",
       "  [252 252 252]\n",
       "  [252 252 252]\n",
       "  ..., \n",
       "  [137 146 154]\n",
       "  [135 142 151]\n",
       "  [134 141 149]]\n",
       "\n",
       " [[253 253 253]\n",
       "  [253 253 253]\n",
       "  [253 253 253]\n",
       "  ..., \n",
       "  [139 146 155]\n",
       "  [138 145 153]\n",
       "  [137 144 152]]\n",
       "\n",
       " [[251 253 252]\n",
       "  [252 254 253]\n",
       "  [253 254 253]\n",
       "  ..., \n",
       "  [141 145 155]\n",
       "  [139 145 154]\n",
       "  [136 143 151]]\n",
       "\n",
       " ..., \n",
       " [[182 153 156]\n",
       "  [183 152 160]\n",
       "  [174 152 156]\n",
       "  ..., \n",
       "  [ 48  42  42]\n",
       "  [ 39  34  31]\n",
       "  [ 30  27  22]]\n",
       "\n",
       " [[181 148 153]\n",
       "  [173 145 151]\n",
       "  [170 141 147]\n",
       "  ..., \n",
       "  [ 43  40  37]\n",
       "  [ 41  37  32]\n",
       "  [ 29  26  20]]\n",
       "\n",
       " [[176 143 150]\n",
       "  [167 140 147]\n",
       "  [166 135 142]\n",
       "  ..., \n",
       "  [ 39  37  33]\n",
       "  [ 42  39  34]\n",
       "  [ 32  29  24]]]</td> \n",
       "        <td id=\"T_f9f2778a_2c42_11e8_bf87_c159740c32bfrow6_col1\" class=\"data row6 col1\" >1</td> \n",
       "        <td id=\"T_f9f2778a_2c42_11e8_bf87_c159740c32bfrow6_col2\" class=\"data row6 col2\" >..\\datasets\\final\\D4\\c1\\20140716_231423.jpg</td> \n",
       "        <td id=\"T_f9f2778a_2c42_11e8_bf87_c159740c32bfrow6_col3\" class=\"data row6 col3\" >D4</td> \n",
       "    </tr>    <tr> \n",
       "        <th id=\"T_f9f2778a_2c42_11e8_bf87_c159740c32bf\" class=\"row_heading level0 row7\" >461</th> \n",
       "        <td id=\"T_f9f2778a_2c42_11e8_bf87_c159740c32bfrow7_col0\" class=\"data row7 col0\" >[[[ 18  19  13]\n",
       "  [ 19  20  14]\n",
       "  [ 19  20  14]\n",
       "  ..., \n",
       "  [195 199 198]\n",
       "  [193 200 198]\n",
       "  [192 201 198]]\n",
       "\n",
       " [[ 18  19  13]\n",
       "  [ 19  20  14]\n",
       "  [ 19  20  14]\n",
       "  ..., \n",
       "  [197 201 200]\n",
       "  [194 199 197]\n",
       "  [193 199 197]]\n",
       "\n",
       " [[ 19  20  14]\n",
       "  [ 19  20  14]\n",
       "  [ 18  19  13]\n",
       "  ..., \n",
       "  [197 201 200]\n",
       "  [195 201 199]\n",
       "  [195 201 199]]\n",
       "\n",
       " ..., \n",
       " [[ 18  14   3]\n",
       "  [ 19  15   4]\n",
       "  [ 19  15   4]\n",
       "  ..., \n",
       "  [ 87  90  79]\n",
       "  [ 90  94  82]\n",
       "  [ 90  93  81]]\n",
       "\n",
       " [[ 17  13   4]\n",
       "  [ 19  15   6]\n",
       "  [ 20  16   7]\n",
       "  ..., \n",
       "  [ 85  88  77]\n",
       "  [ 89  92  82]\n",
       "  [ 89  92  82]]\n",
       "\n",
       " [[ 19  15   6]\n",
       "  [ 19  15   6]\n",
       "  [ 19  15   6]\n",
       "  ..., \n",
       "  [ 83  86  75]\n",
       "  [ 87  90  80]\n",
       "  [ 89  92  83]]]</td> \n",
       "        <td id=\"T_f9f2778a_2c42_11e8_bf87_c159740c32bfrow7_col1\" class=\"data row7 col1\" >0</td> \n",
       "        <td id=\"T_f9f2778a_2c42_11e8_bf87_c159740c32bfrow7_col2\" class=\"data row7 col2\" >..\\datasets\\final\\D6\\c0\\IMG_20180119_100500.jpg</td> \n",
       "        <td id=\"T_f9f2778a_2c42_11e8_bf87_c159740c32bfrow7_col3\" class=\"data row7 col3\" >D6</td> \n",
       "    </tr>    <tr> \n",
       "        <th id=\"T_f9f2778a_2c42_11e8_bf87_c159740c32bf\" class=\"row_heading level0 row8\" >1672</th> \n",
       "        <td id=\"T_f9f2778a_2c42_11e8_bf87_c159740c32bfrow8_col0\" class=\"data row8 col0\" >[[[70 84 71]\n",
       "  [77 89 77]\n",
       "  [71 81 70]\n",
       "  ..., \n",
       "  [12 17 20]\n",
       "  [11 15 16]\n",
       "  [15 18 19]]\n",
       "\n",
       " [[71 85 72]\n",
       "  [72 83 71]\n",
       "  [69 77 66]\n",
       "  ..., \n",
       "  [10 16 16]\n",
       "  [12 20 21]\n",
       "  [14 22 24]]\n",
       "\n",
       " [[72 84 70]\n",
       "  [65 75 61]\n",
       "  [63 70 57]\n",
       "  ..., \n",
       "  [11 17 16]\n",
       "  [12 20 19]\n",
       "  [ 9 18 18]]\n",
       "\n",
       " ..., \n",
       " [[15 24 33]\n",
       "  [23 32 41]\n",
       "  [22 31 41]\n",
       "  ..., \n",
       "  [95 68 50]\n",
       "  [93 64 50]\n",
       "  [93 63 49]]\n",
       "\n",
       " [[17 20 30]\n",
       "  [18 21 27]\n",
       "  [17 22 26]\n",
       "  ..., \n",
       "  [94 67 51]\n",
       "  [98 68 56]\n",
       "  [93 63 52]]\n",
       "\n",
       " [[30 36 54]\n",
       "  [16 23 35]\n",
       "  [14 23 30]\n",
       "  ..., \n",
       "  [96 70 54]\n",
       "  [95 66 51]\n",
       "  [97 68 53]]]</td> \n",
       "        <td id=\"T_f9f2778a_2c42_11e8_bf87_c159740c32bfrow8_col1\" class=\"data row8 col1\" >1</td> \n",
       "        <td id=\"T_f9f2778a_2c42_11e8_bf87_c159740c32bfrow8_col2\" class=\"data row8 col2\" >..\\datasets\\final\\D3\\c1\\20140618_191849.jpg</td> \n",
       "        <td id=\"T_f9f2778a_2c42_11e8_bf87_c159740c32bfrow8_col3\" class=\"data row8 col3\" >D3</td> \n",
       "    </tr>    <tr> \n",
       "        <th id=\"T_f9f2778a_2c42_11e8_bf87_c159740c32bf\" class=\"row_heading level0 row9\" >1386</th> \n",
       "        <td id=\"T_f9f2778a_2c42_11e8_bf87_c159740c32bfrow9_col0\" class=\"data row9 col0\" >[[[107 109 107]\n",
       "  [117 119 118]\n",
       "  [118 119 120]\n",
       "  ..., \n",
       "  [110 112 109]\n",
       "  [ 91  93  90]\n",
       "  [ 87  91  87]]\n",
       "\n",
       " [[ 92  94  90]\n",
       "  [123 125 124]\n",
       "  [ 90  92  91]\n",
       "  ..., \n",
       "  [106 108 105]\n",
       "  [ 97  99  96]\n",
       "  [ 94  95  93]]\n",
       "\n",
       " [[103 103 102]\n",
       "  [119 121 120]\n",
       "  [ 90  90  90]\n",
       "  ..., \n",
       "  [106 108 105]\n",
       "  [ 97  98  96]\n",
       "  [ 95  96  93]]\n",
       "\n",
       " ..., \n",
       " [[ 21  37  48]\n",
       "  [ 29  43  56]\n",
       "  [ 26  36  54]\n",
       "  ..., \n",
       "  [142 144 142]\n",
       "  [168 172 168]\n",
       "  [135 140 136]]\n",
       "\n",
       " [[ 20  34  47]\n",
       "  [ 26  39  52]\n",
       "  [ 30  39  54]\n",
       "  ..., \n",
       "  [133 137 134]\n",
       "  [119 124 121]\n",
       "  [138 143 137]]\n",
       "\n",
       " [[ 24  38  51]\n",
       "  [ 25  38  51]\n",
       "  [ 30  40  55]\n",
       "  ..., \n",
       "  [153 158 154]\n",
       "  [142 148 146]\n",
       "  [169 173 171]]]</td> \n",
       "        <td id=\"T_f9f2778a_2c42_11e8_bf87_c159740c32bfrow9_col1\" class=\"data row9 col1\" >2</td> \n",
       "        <td id=\"T_f9f2778a_2c42_11e8_bf87_c159740c32bfrow9_col2\" class=\"data row9 col2\" >..\\datasets\\final\\D7\\c2\\20180219134210-Scissors-c1b76c29f77dc293.jpg</td> \n",
       "        <td id=\"T_f9f2778a_2c42_11e8_bf87_c159740c32bfrow9_col3\" class=\"data row9 col3\" >D7</td> \n",
       "    </tr></tbody> \n",
       "</table> "
      ],
      "text/plain": [
       "<pandas.io.formats.style.Styler at 0x259bbae66a0>"
      ]
     },
     "execution_count": 8,
     "metadata": {},
     "output_type": "execute_result"
    }
   ],
   "source": [
    "dataset.sample(n=10)[[\"image\",\"label\",\"file\",\"dn\"]].style"
   ]
  },
  {
   "cell_type": "markdown",
   "metadata": {
    "slideshow": {
     "slide_type": "slide"
    }
   },
   "source": [
    "Optionally, we can quickly scroll through the images in our dataset."
   ]
  },
  {
   "cell_type": "code",
   "execution_count": 9,
   "metadata": {},
   "outputs": [
    {
     "ename": "AttributeError",
     "evalue": "module 'PySide2.QtWidgets' has no attribute 'QKeyEvent'",
     "output_type": "error",
     "traceback": [
      "\u001b[0;31m---------------------------------------------------------------------------\u001b[0m",
      "\u001b[0;31mAttributeError\u001b[0m                            Traceback (most recent call last)",
      "\u001b[0;32m~/anaconda3/envs/deep/lib/python3.6/site-packages/skimage/viewer/viewers/core.py\u001b[0m in \u001b[0;36mkeyPressEvent\u001b[0;34m(self, event)\u001b[0m\n\u001b[1;32m    383\u001b[0m \u001b[0;34m\u001b[0m\u001b[0m\n\u001b[1;32m    384\u001b[0m     \u001b[0;32mdef\u001b[0m \u001b[0mkeyPressEvent\u001b[0m\u001b[0;34m(\u001b[0m\u001b[0mself\u001b[0m\u001b[0;34m,\u001b[0m \u001b[0mevent\u001b[0m\u001b[0;34m)\u001b[0m\u001b[0;34m:\u001b[0m\u001b[0;34m\u001b[0m\u001b[0m\n\u001b[0;32m--> 385\u001b[0;31m         \u001b[0;32mif\u001b[0m \u001b[0mtype\u001b[0m\u001b[0;34m(\u001b[0m\u001b[0mevent\u001b[0m\u001b[0;34m)\u001b[0m \u001b[0;34m==\u001b[0m \u001b[0mQtWidgets\u001b[0m\u001b[0;34m.\u001b[0m\u001b[0mQKeyEvent\u001b[0m\u001b[0;34m:\u001b[0m\u001b[0;34m\u001b[0m\u001b[0m\n\u001b[0m\u001b[1;32m    386\u001b[0m             \u001b[0mkey\u001b[0m \u001b[0;34m=\u001b[0m \u001b[0mevent\u001b[0m\u001b[0;34m.\u001b[0m\u001b[0mkey\u001b[0m\u001b[0;34m(\u001b[0m\u001b[0;34m)\u001b[0m\u001b[0;34m\u001b[0m\u001b[0m\n\u001b[1;32m    387\u001b[0m             \u001b[0;31m# Number keys (code: 0 = key 48, 9 = key 57) move to deciles\u001b[0m\u001b[0;34m\u001b[0m\u001b[0;34m\u001b[0m\u001b[0m\n",
      "\u001b[0;31mAttributeError\u001b[0m: module 'PySide2.QtWidgets' has no attribute 'QKeyEvent'"
     ]
    },
    {
     "data": {
      "text/plain": [
       "[]"
      ]
     },
     "execution_count": 9,
     "metadata": {},
     "output_type": "execute_result"
    }
   ],
   "source": [
    "viewer=skimage.viewer.CollectionViewer([r[1][\"image\"] for r in dataset.iterrows()])\n",
    "viewer.show()\n",
    "# Note: you have to close the window to continue"
   ]
  },
  {
   "cell_type": "markdown",
   "metadata": {
    "slideshow": {
     "slide_type": "slide"
    }
   },
   "source": [
    "## Step 3: Prepare training and testing sets\n",
    "\n",
    "How should we split training and testing data?  The code below implements a few options (run only one of the cells)."
   ]
  },
  {
   "cell_type": "code",
   "execution_count": 10,
   "metadata": {
    "collapsed": true
   },
   "outputs": [],
   "source": [
    "# Option one (hard): use all samples from dataset named \"testing\"\n",
    "# which contains some images taken in the same days as D1--D4, but not contained in these dirs.\n",
    "te_mask = dataset[\"dn\"]==\"testing\"\n",
    "dataset_te=dataset[te_mask]"
   ]
  },
  {
   "cell_type": "code",
   "execution_count": 9,
   "metadata": {
    "collapsed": true
   },
   "outputs": [],
   "source": [
    "# Option two (hard): test on all samples from one specific dataset\n",
    "te_mask = dataset[\"dn\"]==\"D2\"\n",
    "dataset_te=dataset[te_mask]"
   ]
  },
  {
   "cell_type": "code",
   "execution_count": 11,
   "metadata": {
    "collapsed": true,
    "slideshow": {
     "slide_type": "slide"
    }
   },
   "outputs": [],
   "source": [
    "# In any case, training samples are all other samples\n",
    "dataset_tr=dataset.loc[dataset.index.difference(dataset_te.index)]"
   ]
  },
  {
   "cell_type": "code",
   "execution_count": 12,
   "metadata": {
    "slideshow": {
     "slide_type": "slide"
    }
   },
   "outputs": [
    {
     "data": {
      "text/html": [
       "<div>\n",
       "<style scoped>\n",
       "    .dataframe tbody tr th:only-of-type {\n",
       "        vertical-align: middle;\n",
       "    }\n",
       "\n",
       "    .dataframe tbody tr th {\n",
       "        vertical-align: top;\n",
       "    }\n",
       "\n",
       "    .dataframe thead th {\n",
       "        text-align: right;\n",
       "    }\n",
       "</style>\n",
       "<table border=\"1\" class=\"dataframe\">\n",
       "  <thead>\n",
       "    <tr style=\"text-align: right;\">\n",
       "      <th></th>\n",
       "      <th># Training images</th>\n",
       "      <th># Testing images</th>\n",
       "    </tr>\n",
       "    <tr>\n",
       "      <th>Class name</th>\n",
       "      <th></th>\n",
       "      <th></th>\n",
       "    </tr>\n",
       "  </thead>\n",
       "  <tbody>\n",
       "    <tr>\n",
       "      <th>rock</th>\n",
       "      <td>215</td>\n",
       "      <td>31</td>\n",
       "    </tr>\n",
       "    <tr>\n",
       "      <th>paper</th>\n",
       "      <td>222</td>\n",
       "      <td>31</td>\n",
       "    </tr>\n",
       "    <tr>\n",
       "      <th>scissors</th>\n",
       "      <td>194</td>\n",
       "      <td>31</td>\n",
       "    </tr>\n",
       "  </tbody>\n",
       "</table>\n",
       "</div>"
      ],
      "text/plain": [
       "            # Training images  # Testing images\n",
       "Class name                                     \n",
       "rock                      215                31\n",
       "paper                     222                31\n",
       "scissors                  194                31"
      ]
     },
     "execution_count": 12,
     "metadata": {},
     "output_type": "execute_result"
    }
   ],
   "source": [
    "# Print a summary of how many training and testing images we have sampled\n",
    "import collections\n",
    "pd.DataFrame(index=[0,1,2],data=collections.OrderedDict((\n",
    "    (\"Class name\",           names),\n",
    "    (\"# Training images\", dataset_tr[\"label\"].value_counts()),\n",
    "    (\"# Testing images\",  dataset_te[\"label\"].value_counts())))).set_index(\"Class name\")"
   ]
  },
  {
   "cell_type": "code",
   "execution_count": 13,
   "metadata": {
    "slideshow": {
     "slide_type": "slide"
    }
   },
   "outputs": [
    {
     "data": {
      "application/vnd.jupyter.widget-view+json": {
       "model_id": "895e78a0ec5f4fe28bef85cd74c31c94"
      }
     },
     "metadata": {},
     "output_type": "display_data"
    },
    {
     "data": {
      "text/plain": [
       "<function __main__.imgplotList>"
      ]
     },
     "execution_count": 13,
     "metadata": {},
     "output_type": "execute_result"
    }
   ],
   "source": [
    "%matplotlib inline\n",
    "examples=list(dataset_te[\"image\"])\n",
    "interact(\n",
    "    imgplotList, \n",
    "    i=widgets.IntSlider(min=0,max=len(examples)-1, step=1, value=0,continuous_update=True), \n",
    "    data=fixed(examples))"
   ]
  },
  {
   "cell_type": "markdown",
   "metadata": {
    "slideshow": {
     "slide_type": "slide"
    }
   },
   "source": [
    "## Step 4: define what we feed to the Neural Network"
   ]
  },
  {
   "cell_type": "code",
   "execution_count": 14,
   "metadata": {
    "slideshow": {
     "slide_type": "-"
    }
   },
   "outputs": [
    {
     "name": "stdout",
     "output_type": "stream",
     "text": [
      "(200, 200, 3) uint8\n"
     ]
    }
   ],
   "source": [
    "im = dataset_tr.sample(1).iloc[0][\"image\"]\n",
    "print(im.shape, im.dtype)"
   ]
  },
  {
   "cell_type": "code",
   "execution_count": 15,
   "metadata": {
    "collapsed": true,
    "slideshow": {
     "slide_type": "slide"
    }
   },
   "outputs": [],
   "source": [
    "# Take image and resize to a specified size\n",
    "def transform_simple(im,sz):\n",
    "    with warnings.catch_warnings():\n",
    "        warnings.simplefilter(\"ignore\")\n",
    "        imr = skimage.transform.resize(im, (sz,sz))\n",
    "    return imr\n",
    "\n",
    "transform = transform_simple"
   ]
  },
  {
   "cell_type": "code",
   "execution_count": 25,
   "metadata": {
    "collapsed": true,
    "slideshow": {
     "slide_type": "slide"
    }
   },
   "outputs": [],
   "source": [
    "# Take image and resize to a specified size, after applying data augmentation\n",
    "def transform_complex(im,sz):\n",
    "    if(np.random.rand()<0.5):\n",
    "        im=np.fliplr(im)\n",
    "    with warnings.catch_warnings():\n",
    "        warnings.simplefilter(\"ignore\")\n",
    "        tf1 = skimage.transform.SimilarityTransform(scale = 1 / im.shape[0])\n",
    "        tf2 = skimage.transform.SimilarityTransform(translation=[-0.5, -0.5])\n",
    "        tf3 = skimage.transform.SimilarityTransform(rotation=np.deg2rad(np.random.uniform(0,360)))\n",
    "        tf4 = skimage.transform.SimilarityTransform(scale=np.random.uniform(1,1.6))\n",
    "        tf5 = skimage.transform.SimilarityTransform(translation=np.array([0.5, 0.5])+np.random.uniform(-0.1,0.1,size=2))\n",
    "        tf6 = skimage.transform.SimilarityTransform(scale=sz)\n",
    "        imr = skimage.transform.warp(im, (tf1+(tf2+(tf3+(tf4+(tf5+tf6))))).inverse, output_shape=(sz,sz),mode=\"edge\")\n",
    "        imr = imr*np.random.uniform(0.9,1.1,size=(1,1,3))\n",
    "        imr = np.clip(imr,0,1)\n",
    "    return imr\n",
    "\n",
    "transform = transform_complex"
   ]
  },
  {
   "cell_type": "code",
   "execution_count": 18,
   "metadata": {
    "slideshow": {
     "slide_type": "slide"
    }
   },
   "outputs": [
    {
     "data": {
      "application/vnd.jupyter.widget-view+json": {
       "model_id": "e34acab0a093416587ec9361e6c9b056"
      }
     },
     "metadata": {},
     "output_type": "display_data"
    },
    {
     "data": {
      "image/png": "[encoded data removed]",
      "text/plain": [
       "<matplotlib.figure.Figure at 0x259c24e3358>"
      ]
     },
     "metadata": {},
     "output_type": "display_data"
    }
   ],
   "source": [
    "# The resolution challenge\n",
    "@interact(sz = widgets.IntSlider(min=2,max=100),\n",
    "          seed = widgets.IntSlider(min=0,max=100),\n",
    "          reveal = widgets.widgets.ToggleButton(value=False,description='Reveal'))\n",
    "def f(sz,seed,reveal):\n",
    "    fig,axs = plt.subplots(nrows = 2, ncols = 5,figsize=(6,3),dpi=150)\n",
    "    ims = dataset_tr.sample(len(axs.flatten()), random_state=sz*100+seed)\n",
    "    for ax,(_,row) in zip(axs.flatten(),ims.iterrows()):\n",
    "        ax.imshow(transform_simple(row[\"image\"],sz))\n",
    "        ax.axis(\"off\")\n",
    "        if(reveal):\n",
    "            ax.set_title(names[row[\"label\"]])\n",
    "    #fig.tight_layout()"
   ]
  },
  {
   "cell_type": "code",
   "execution_count": 26,
   "metadata": {
    "collapsed": true,
    "slideshow": {
     "slide_type": "slide"
    }
   },
   "outputs": [],
   "source": [
    "def sample(df,sz):\n",
    "    r=df.sample(n=1)\n",
    "    l=r[\"label\"].iloc[0]\n",
    "    im=r[\"image\"].iloc[0]\n",
    "    im=transform(im,sz)\n",
    "    return im,l\n",
    "\n",
    "def mkbatch(df,N,sz):\n",
    "    X = []\n",
    "    y = []\n",
    "    for i in range(N):\n",
    "        im,l=sample(df,sz)\n",
    "        X.append(im)\n",
    "        y.append(l)\n",
    "    X=np.array(X).astype('float32')\n",
    "    y=np.array(y)\n",
    "    y=keras.utils.np_utils.to_categorical(y,3)\n",
    "    return X,y\n",
    "\n",
    "def generator(df,batch_size,sz):\n",
    "    while True:\n",
    "        X,y = mkbatch(df,batch_size,sz)\n",
    "        yield (X,y)"
   ]
  },
  {
   "cell_type": "code",
   "execution_count": 18,
   "metadata": {
    "slideshow": {
     "slide_type": "slide"
    }
   },
   "outputs": [
    {
     "data": {
      "text/plain": [
       "array([[ 0.,  1.,  0.],\n",
       "       [ 0.,  1.,  0.],\n",
       "       [ 0.,  0.,  1.],\n",
       "       [ 0.,  0.,  1.],\n",
       "       [ 0.,  1.,  0.],\n",
       "       [ 0.,  0.,  1.],\n",
       "       [ 0.,  0.,  1.],\n",
       "       [ 0.,  0.,  1.],\n",
       "       [ 1.,  0.,  0.],\n",
       "       [ 0.,  1.,  0.],\n",
       "       [ 1.,  0.,  0.],\n",
       "       [ 1.,  0.,  0.],\n",
       "       [ 0.,  0.,  1.],\n",
       "       [ 0.,  0.,  1.],\n",
       "       [ 1.,  0.,  0.],\n",
       "       [ 0.,  1.,  0.],\n",
       "       [ 0.,  0.,  1.],\n",
       "       [ 0.,  0.,  1.],\n",
       "       [ 1.,  0.,  0.],\n",
       "       [ 0.,  0.,  1.]])"
      ]
     },
     "execution_count": 18,
     "metadata": {},
     "output_type": "execute_result"
    }
   ],
   "source": [
    "b = mkbatch(dataset_tr,20,32)\n",
    "b[1]"
   ]
  },
  {
   "cell_type": "code",
   "execution_count": 21,
   "metadata": {
    "slideshow": {
     "slide_type": "slide"
    }
   },
   "outputs": [
    {
     "data": {
      "application/vnd.jupyter.widget-view+json": {
       "model_id": "db20d7e81964421da10e322f488eab9d"
      }
     },
     "metadata": {},
     "output_type": "display_data"
    },
    {
     "data": {
      "text/plain": [
       "<function __main__.imgplotList>"
      ]
     },
     "execution_count": 21,
     "metadata": {},
     "output_type": "execute_result"
    }
   ],
   "source": [
    "# Visualize 100 images from our input dataset\n",
    "examples = list(mkbatch(dataset_tr,100,32)[0])\n",
    "interact(imgplotList, i=widgets.IntSlider(min=0, max=len(examples)-1, step=1, value=0,continuous_update=False), data=fixed(examples))"
   ]
  },
  {
   "cell_type": "code",
   "execution_count": 27,
   "metadata": {
    "scrolled": false,
    "slideshow": {
     "slide_type": "slide"
    }
   },
   "outputs": [
    {
     "data": {
      "application/vnd.jupyter.widget-view+json": {
       "model_id": "5b97c839a20b47ceb3085b61cba5560b"
      }
     },
     "metadata": {},
     "output_type": "display_data"
    },
    {
     "data": {
      "text/plain": [
       "<function __main__.imgplotList>"
      ]
     },
     "execution_count": 27,
     "metadata": {},
     "output_type": "execute_result"
    }
   ],
   "source": [
    "# Visualize 100 variations from our first input image (makes sense only if transform==transform_complex, i.e. if we are using data augmentation)\n",
    "examples = list(mkbatch(dataset_tr.iloc[[0]],100,32)[0])\n",
    "interact(imgplotList, i=widgets.IntSlider(min=0, max=len(examples)-1, step=1, value=0,continuous_update=False), data=fixed(examples))"
   ]
  },
  {
   "cell_type": "markdown",
   "metadata": {
    "slideshow": {
     "slide_type": "slide"
    }
   },
   "source": [
    "## Step 5: build and train the neural network"
   ]
  },
  {
   "cell_type": "code",
   "execution_count": 28,
   "metadata": {
    "collapsed": true
   },
   "outputs": [],
   "source": [
    "# Keras: Deep Learning library for Theano and TensorFlow\n",
    "import keras\n",
    "from keras.utils  import np_utils\n",
    "from keras.models import Sequential\n",
    "from keras.layers import Dense, Activation, Flatten\n",
    "from keras.layers import Conv2D, MaxPooling2D, AveragePooling2D, Dropout\n",
    "\n",
    "# NN settings\n",
    "patchsize          = 32\n",
    "batch_size         = 32\n",
    "pool_size          = (2,2) # size of pooling area for max pooling\n",
    "kernel_size        = (3,3) # convolution kernel size\n",
    "\n",
    "def makeModel(nb_filters):\n",
    "    model = Sequential()\n",
    "    model.add(Conv2D(nb_filters, kernel_size, input_shape=(patchsize,patchsize,3), padding = \"same\"))\n",
    "    model.add(Activation('relu'))\n",
    "    model.add(MaxPooling2D(pool_size = pool_size))\n",
    "    model.add(Conv2D(nb_filters*2, kernel_size, padding = \"same\"))\n",
    "    model.add(Activation('relu'))\n",
    "    model.add(MaxPooling2D(pool_size = pool_size))\n",
    "    model.add(Conv2D(nb_filters*4, kernel_size, padding = \"same\"))\n",
    "    model.add(Activation('relu'))\n",
    "    model.add(MaxPooling2D(pool_size = pool_size))\n",
    "    model.add(AveragePooling2D(pool_size = pool_size))\n",
    "    model.add(Flatten())\n",
    "    model.add(Dense(128)) # generate a fully connected layer wiht 128 outputs (arbitrary value)\n",
    "    model.add(Activation('relu'))\n",
    "    model.add(Dropout(0.5))\n",
    "    model.add(Dense(3)) # output layer\n",
    "    model.add(Activation('softmax'))\n",
    "\n",
    "    ## compile! network\n",
    "    model.compile(loss='categorical_crossentropy',\n",
    "                  optimizer=\"adam\",\n",
    "                  metrics=['accuracy'])\n",
    "\n",
    "    return model"
   ]
  },
  {
   "cell_type": "code",
   "execution_count": 22,
   "metadata": {},
   "outputs": [
    {
     "name": "stdout",
     "output_type": "stream",
     "text": [
      "_________________________________________________________________\n",
      "Layer (type)                 Output Shape              Param #   \n",
      "=================================================================\n",
      "conv2d_1 (Conv2D)            (None, 32, 32, 128)       3584      \n",
      "_________________________________________________________________\n",
      "activation_1 (Activation)    (None, 32, 32, 128)       0         \n",
      "_________________________________________________________________\n",
      "max_pooling2d_1 (MaxPooling2 (None, 16, 16, 128)       0         \n",
      "_________________________________________________________________\n",
      "conv2d_2 (Conv2D)            (None, 16, 16, 256)       295168    \n",
      "_________________________________________________________________\n",
      "activation_2 (Activation)    (None, 16, 16, 256)       0         \n",
      "_________________________________________________________________\n",
      "max_pooling2d_2 (MaxPooling2 (None, 8, 8, 256)         0         \n",
      "_________________________________________________________________\n",
      "conv2d_3 (Conv2D)            (None, 8, 8, 512)         1180160   \n",
      "_________________________________________________________________\n",
      "activation_3 (Activation)    (None, 8, 8, 512)         0         \n",
      "_________________________________________________________________\n",
      "max_pooling2d_3 (MaxPooling2 (None, 4, 4, 512)         0         \n",
      "_________________________________________________________________\n",
      "average_pooling2d_1 (Average (None, 2, 2, 512)         0         \n",
      "_________________________________________________________________\n",
      "flatten_1 (Flatten)          (None, 2048)              0         \n",
      "_________________________________________________________________\n",
      "dense_1 (Dense)              (None, 128)               262272    \n",
      "_________________________________________________________________\n",
      "activation_4 (Activation)    (None, 128)               0         \n",
      "_________________________________________________________________\n",
      "dropout_1 (Dropout)          (None, 128)               0         \n",
      "_________________________________________________________________\n",
      "dense_2 (Dense)              (None, 3)                 387       \n",
      "_________________________________________________________________\n",
      "activation_5 (Activation)    (None, 3)                 0         \n",
      "=================================================================\n",
      "Total params: 1,741,571\n",
      "Trainable params: 1,741,571\n",
      "Non-trainable params: 0\n",
      "_________________________________________________________________\n"
     ]
    }
   ],
   "source": [
    "makeModel(128).summary()"
   ]
  },
  {
   "cell_type": "markdown",
   "metadata": {
    "slideshow": {
     "slide_type": "slide"
    }
   },
   "source": [
    "Build a set of 1000 testing instances taken from the testing dataset.\n",
    "\n",
    "Note: \"testing\" in this case is synonym with \"validation\" and \"evaluation\""
   ]
  },
  {
   "cell_type": "code",
   "execution_count": 23,
   "metadata": {
    "collapsed": true
   },
   "outputs": [],
   "source": [
    "(X_test,y_test) = mkbatch(dataset_te, 1000, patchsize)\n",
    "\n",
    "# Prepare the logs directory, if it does not exist\n",
    "(pathlib.Path(\".\")/\"logs\").mkdir(exist_ok=True)"
   ]
  },
  {
   "cell_type": "markdown",
   "metadata": {
    "slideshow": {
     "slide_type": "slide"
    }
   },
   "source": [
    "While the network trains, we can monitor training loss/accuracy and testing loss/accuracy using tensorboard at http://0.0.0.0:6006\n",
    "\n",
    "You may need to launch tensorboard first if it's not already running, by executing\n",
    "\n",
    "`tensorboard --logdir=logs`\n",
    "\n",
    "in a shell with the current working directory.  Check that you are within the proper conda environment, if applicable."
   ]
  },
  {
   "cell_type": "code",
   "execution_count": 24,
   "metadata": {},
   "outputs": [
    {
     "name": "stdout",
     "output_type": "stream",
     "text": [
      "Epoch 1/6\n",
      "50/50 [==============================] - ETA: 9s - loss: 1.0919 - acc: 0.375 - ETA: 7s - loss: 1.1358 - acc: 0.375 - ETA: 7s - loss: 1.1348 - acc: 0.354 - ETA: 7s - loss: 1.1268 - acc: 0.351 - ETA: 6s - loss: 1.1167 - acc: 0.368 - ETA: 6s - loss: 1.1153 - acc: 0.364 - ETA: 6s - loss: 1.1144 - acc: 0.352 - ETA: 6s - loss: 1.1144 - acc: 0.339 - ETA: 6s - loss: 1.1119 - acc: 0.340 - ETA: 5s - loss: 1.1104 - acc: 0.340 - ETA: 5s - loss: 1.1097 - acc: 0.349 - ETA: 5s - loss: 1.1096 - acc: 0.349 - ETA: 5s - loss: 1.1085 - acc: 0.341 - ETA: 5s - loss: 1.1069 - acc: 0.343 - ETA: 5s - loss: 1.1077 - acc: 0.341 - ETA: 4s - loss: 1.1065 - acc: 0.345 - ETA: 4s - loss: 1.1051 - acc: 0.349 - ETA: 4s - loss: 1.1046 - acc: 0.349 - ETA: 4s - loss: 1.1048 - acc: 0.345 - ETA: 4s - loss: 1.1044 - acc: 0.340 - ETA: 4s - loss: 1.1029 - acc: 0.349 - ETA: 4s - loss: 1.1025 - acc: 0.353 - ETA: 3s - loss: 1.1016 - acc: 0.356 - ETA: 3s - loss: 1.1005 - acc: 0.359 - ETA: 3s - loss: 1.0999 - acc: 0.358 - ETA: 3s - loss: 1.0987 - acc: 0.361 - ETA: 3s - loss: 1.0979 - acc: 0.360 - ETA: 3s - loss: 1.0994 - acc: 0.359 - ETA: 3s - loss: 1.0988 - acc: 0.361 - ETA: 2s - loss: 1.0990 - acc: 0.360 - ETA: 2s - loss: 1.0990 - acc: 0.360 - ETA: 2s - loss: 1.0995 - acc: 0.361 - ETA: 2s - loss: 1.0991 - acc: 0.362 - ETA: 2s - loss: 1.0984 - acc: 0.364 - ETA: 2s - loss: 1.0981 - acc: 0.367 - ETA: 2s - loss: 1.0985 - acc: 0.365 - ETA: 1s - loss: 1.0986 - acc: 0.365 - ETA: 1s - loss: 1.0984 - acc: 0.366 - ETA: 1s - loss: 1.0972 - acc: 0.371 - ETA: 1s - loss: 1.0973 - acc: 0.371 - ETA: 1s - loss: 1.0978 - acc: 0.368 - ETA: 1s - loss: 1.0976 - acc: 0.369 - ETA: 1s - loss: 1.0979 - acc: 0.366 - ETA: 0s - loss: 1.0981 - acc: 0.364 - ETA: 0s - loss: 1.0984 - acc: 0.363 - ETA: 0s - loss: 1.0984 - acc: 0.362 - ETA: 0s - loss: 1.0985 - acc: 0.361 - ETA: 0s - loss: 1.0987 - acc: 0.361 - ETA: 0s - loss: 1.0985 - acc: 0.360 - 8s - loss: 1.0987 - acc: 0.3606 - val_loss: 1.0990 - val_acc: 0.3570\n",
      "Epoch 2/6\n",
      "50/50 [==============================] - ETA: 6s - loss: 1.1063 - acc: 0.218 - ETA: 6s - loss: 1.1028 - acc: 0.265 - ETA: 6s - loss: 1.0999 - acc: 0.302 - ETA: 6s - loss: 1.1003 - acc: 0.296 - ETA: 6s - loss: 1.0998 - acc: 0.318 - ETA: 6s - loss: 1.0995 - acc: 0.328 - ETA: 6s - loss: 1.1009 - acc: 0.308 - ETA: 6s - loss: 1.1016 - acc: 0.296 - ETA: 6s - loss: 1.1011 - acc: 0.295 - ETA: 5s - loss: 1.1009 - acc: 0.296 - ETA: 5s - loss: 1.1009 - acc: 0.292 - ETA: 5s - loss: 1.1007 - acc: 0.296 - ETA: 5s - loss: 1.1007 - acc: 0.293 - ETA: 5s - loss: 1.1007 - acc: 0.292 - ETA: 5s - loss: 1.0999 - acc: 0.310 - ETA: 4s - loss: 1.0996 - acc: 0.318 - ETA: 4s - loss: 1.0992 - acc: 0.323 - ETA: 4s - loss: 1.0992 - acc: 0.321 - ETA: 4s - loss: 1.0992 - acc: 0.327 - ETA: 4s - loss: 1.0987 - acc: 0.332 - ETA: 4s - loss: 1.0984 - acc: 0.337 - ETA: 4s - loss: 1.0981 - acc: 0.339 - ETA: 3s - loss: 1.0982 - acc: 0.339 - ETA: 3s - loss: 1.0989 - acc: 0.337 - ETA: 3s - loss: 1.0993 - acc: 0.336 - ETA: 3s - loss: 1.0984 - acc: 0.341 - ETA: 3s - loss: 1.0992 - acc: 0.336 - ETA: 3s - loss: 1.0990 - acc: 0.338 - ETA: 3s - loss: 1.0991 - acc: 0.338 - ETA: 2s - loss: 1.0993 - acc: 0.335 - ETA: 2s - loss: 1.0992 - acc: 0.337 - ETA: 2s - loss: 1.0990 - acc: 0.335 - ETA: 2s - loss: 1.0991 - acc: 0.332 - ETA: 2s - loss: 1.0993 - acc: 0.331 - ETA: 2s - loss: 1.0993 - acc: 0.333 - ETA: 2s - loss: 1.0997 - acc: 0.329 - ETA: 1s - loss: 1.0997 - acc: 0.331 - ETA: 1s - loss: 1.0996 - acc: 0.333 - ETA: 1s - loss: 1.0995 - acc: 0.334 - ETA: 1s - loss: 1.0993 - acc: 0.337 - ETA: 1s - loss: 1.0993 - acc: 0.336 - ETA: 1s - loss: 1.0992 - acc: 0.338 - ETA: 1s - loss: 1.0992 - acc: 0.335 - ETA: 0s - loss: 1.0992 - acc: 0.335 - ETA: 0s - loss: 1.0991 - acc: 0.338 - ETA: 0s - loss: 1.0991 - acc: 0.339 - ETA: 0s - loss: 1.0990 - acc: 0.341 - ETA: 0s - loss: 1.0990 - acc: 0.342 - ETA: 0s - loss: 1.0991 - acc: 0.341 - 8s - loss: 1.0991 - acc: 0.3394 - val_loss: 1.0990 - val_acc: 0.3100\n",
      "Epoch 3/6\n",
      "50/50 [==============================] - ETA: 7s - loss: 1.0996 - acc: 0.312 - ETA: 6s - loss: 1.0990 - acc: 0.296 - ETA: 6s - loss: 1.0977 - acc: 0.322 - ETA: 6s - loss: 1.0970 - acc: 0.335 - ETA: 6s - loss: 1.0964 - acc: 0.350 - ETA: 6s - loss: 1.0974 - acc: 0.343 - ETA: 5s - loss: 1.0978 - acc: 0.339 - ETA: 5s - loss: 1.0979 - acc: 0.347 - ETA: 5s - loss: 1.0970 - acc: 0.368 - ETA: 5s - loss: 1.0969 - acc: 0.365 - ETA: 5s - loss: 1.0975 - acc: 0.363 - ETA: 5s - loss: 1.0978 - acc: 0.372 - ETA: 4s - loss: 1.0979 - acc: 0.372 - ETA: 4s - loss: 1.0980 - acc: 0.368 - ETA: 4s - loss: 1.0975 - acc: 0.377 - ETA: 4s - loss: 1.0975 - acc: 0.377 - ETA: 4s - loss: 1.0975 - acc: 0.375 - ETA: 4s - loss: 1.0976 - acc: 0.371 - ETA: 4s - loss: 1.0973 - acc: 0.373 - ETA: 3s - loss: 1.0972 - acc: 0.371 - ETA: 3s - loss: 1.0973 - acc: 0.372 - ETA: 3s - loss: 1.0975 - acc: 0.372 - ETA: 3s - loss: 1.0977 - acc: 0.366 - ETA: 3s - loss: 1.0975 - acc: 0.371 - ETA: 3s - loss: 1.0972 - acc: 0.373 - ETA: 3s - loss: 1.0972 - acc: 0.370 - ETA: 3s - loss: 1.0968 - acc: 0.376 - ETA: 3s - loss: 1.0968 - acc: 0.373 - ETA: 2s - loss: 1.0972 - acc: 0.368 - ETA: 2s - loss: 1.0974 - acc: 0.365 - ETA: 2s - loss: 1.0971 - acc: 0.364 - ETA: 2s - loss: 1.0974 - acc: 0.363 - ETA: 2s - loss: 1.0974 - acc: 0.362 - ETA: 2s - loss: 1.0970 - acc: 0.366 - ETA: 2s - loss: 1.0965 - acc: 0.372 - ETA: 1s - loss: 1.0963 - acc: 0.371 - ETA: 1s - loss: 1.0963 - acc: 0.370 - ETA: 1s - loss: 1.0961 - acc: 0.369 - ETA: 1s - loss: 1.0961 - acc: 0.368 - ETA: 1s - loss: 1.0957 - acc: 0.365 - ETA: 1s - loss: 1.0967 - acc: 0.361 - ETA: 1s - loss: 1.0969 - acc: 0.361 - ETA: 1s - loss: 1.0963 - acc: 0.363 - ETA: 0s - loss: 1.0962 - acc: 0.361 - ETA: 0s - loss: 1.0960 - acc: 0.363 - ETA: 0s - loss: 1.0963 - acc: 0.361 - ETA: 0s - loss: 1.0970 - acc: 0.357 - ETA: 0s - loss: 1.0976 - acc: 0.354 - ETA: 0s - loss: 1.0978 - acc: 0.353 - 8s - loss: 1.0982 - acc: 0.3519 - val_loss: 1.0992 - val_acc: 0.3100\n",
      "Epoch 4/6\n",
      "50/50 [==============================] - ETA: 6s - loss: 1.0840 - acc: 0.406 - ETA: 6s - loss: 1.0901 - acc: 0.406 - ETA: 6s - loss: 1.0885 - acc: 0.395 - ETA: 6s - loss: 1.0927 - acc: 0.359 - ETA: 6s - loss: 1.0932 - acc: 0.343 - ETA: 6s - loss: 1.0927 - acc: 0.359 - ETA: 6s - loss: 1.0936 - acc: 0.348 - ETA: 6s - loss: 1.0939 - acc: 0.347 - ETA: 6s - loss: 1.0929 - acc: 0.368 - ETA: 5s - loss: 1.0927 - acc: 0.371 - ETA: 5s - loss: 1.0937 - acc: 0.369 - ETA: 5s - loss: 1.0937 - acc: 0.367 - ETA: 5s - loss: 1.0946 - acc: 0.358 - ETA: 5s - loss: 1.0951 - acc: 0.352 - ETA: 5s - loss: 1.0948 - acc: 0.360 - ETA: 4s - loss: 1.0957 - acc: 0.357 - ETA: 4s - loss: 1.0964 - acc: 0.351 - ETA: 4s - loss: 1.0965 - acc: 0.345 - ETA: 4s - loss: 1.0972 - acc: 0.342 - ETA: 4s - loss: 1.0972 - acc: 0.340 - ETA: 4s - loss: 1.0973 - acc: 0.342 - ETA: 3s - loss: 1.0976 - acc: 0.336 - ETA: 3s - loss: 1.0978 - acc: 0.337 - ETA: 3s - loss: 1.0974 - acc: 0.338 - ETA: 3s - loss: 1.0979 - acc: 0.336 - ETA: 3s - loss: 1.0974 - acc: 0.346 - ETA: 3s - loss: 1.0972 - acc: 0.351 - ETA: 3s - loss: 1.0974 - acc: 0.350 - ETA: 3s - loss: 1.0975 - acc: 0.345 - ETA: 2s - loss: 1.0975 - acc: 0.344 - ETA: 2s - loss: 1.0974 - acc: 0.345 - ETA: 2s - loss: 1.0972 - acc: 0.348 - ETA: 2s - loss: 1.0973 - acc: 0.349 - ETA: 2s - loss: 1.0969 - acc: 0.353 - ETA: 2s - loss: 1.0969 - acc: 0.353 - ETA: 2s - loss: 1.0971 - acc: 0.350 - ETA: 1s - loss: 1.0970 - acc: 0.351 - ETA: 1s - loss: 1.0970 - acc: 0.352 - ETA: 1s - loss: 1.0976 - acc: 0.348 - ETA: 1s - loss: 1.0977 - acc: 0.346 - ETA: 1s - loss: 1.0977 - acc: 0.346 - ETA: 1s - loss: 1.0976 - acc: 0.346 - ETA: 1s - loss: 1.0973 - acc: 0.349 - ETA: 0s - loss: 1.0974 - acc: 0.348 - ETA: 0s - loss: 1.0974 - acc: 0.345 - ETA: 0s - loss: 1.0976 - acc: 0.343 - ETA: 0s - loss: 1.0974 - acc: 0.344 - ETA: 0s - loss: 1.0972 - acc: 0.348 - ETA: 0s - loss: 1.0977 - acc: 0.345 - 9s - loss: 1.0976 - acc: 0.3438 - val_loss: 1.0972 - val_acc: 0.3380\n",
      "Epoch 5/6\n",
      "50/50 [==============================] - ETA: 6s - loss: 1.1108 - acc: 0.312 - ETA: 7s - loss: 1.1023 - acc: 0.359 - ETA: 6s - loss: 1.1015 - acc: 0.354 - ETA: 6s - loss: 1.0986 - acc: 0.382 - ETA: 6s - loss: 1.0992 - acc: 0.368 - ETA: 6s - loss: 1.0993 - acc: 0.369 - ETA: 6s - loss: 1.0985 - acc: 0.366 - ETA: 6s - loss: 1.0971 - acc: 0.382 - ETA: 5s - loss: 1.0979 - acc: 0.368 - ETA: 5s - loss: 1.0983 - acc: 0.362 - ETA: 5s - loss: 1.0968 - acc: 0.380 - ETA: 5s - loss: 1.0968 - acc: 0.377 - ETA: 5s - loss: 1.0965 - acc: 0.379 - ETA: 4s - loss: 1.0959 - acc: 0.386 - ETA: 4s - loss: 1.0954 - acc: 0.387 - ETA: 4s - loss: 1.0949 - acc: 0.388 - ETA: 4s - loss: 1.0946 - acc: 0.384 - ETA: 4s - loss: 1.0944 - acc: 0.375 - ETA: 4s - loss: 1.0943 - acc: 0.375 - ETA: 4s - loss: 1.0937 - acc: 0.378 - ETA: 4s - loss: 1.0939 - acc: 0.376 - ETA: 3s - loss: 1.0944 - acc: 0.372 - ETA: 3s - loss: 1.0945 - acc: 0.370 - ETA: 3s - loss: 1.0950 - acc: 0.365 - ETA: 3s - loss: 1.0944 - acc: 0.365 - ETA: 3s - loss: 1.0944 - acc: 0.367 - ETA: 3s - loss: 1.0947 - acc: 0.366 - ETA: 3s - loss: 1.0952 - acc: 0.362 - ETA: 3s - loss: 1.0948 - acc: 0.369 - ETA: 2s - loss: 1.0951 - acc: 0.366 - ETA: 2s - loss: 1.0956 - acc: 0.362 - ETA: 2s - loss: 1.0954 - acc: 0.361 - ETA: 2s - loss: 1.0956 - acc: 0.360 - ETA: 2s - loss: 1.0949 - acc: 0.364 - ETA: 2s - loss: 1.0948 - acc: 0.366 - ETA: 2s - loss: 1.0940 - acc: 0.368 - ETA: 1s - loss: 1.0947 - acc: 0.365 - ETA: 1s - loss: 1.0949 - acc: 0.365 - ETA: 1s - loss: 1.0955 - acc: 0.361 - ETA: 1s - loss: 1.0957 - acc: 0.361 - ETA: 1s - loss: 1.0958 - acc: 0.362 - ETA: 1s - loss: 1.0959 - acc: 0.360 - ETA: 1s - loss: 1.0957 - acc: 0.361 - ETA: 0s - loss: 1.0960 - acc: 0.361 - ETA: 0s - loss: 1.0960 - acc: 0.360 - ETA: 0s - loss: 1.0956 - acc: 0.362 - ETA: 0s - loss: 1.0957 - acc: 0.360 - ETA: 0s - loss: 1.0960 - acc: 0.360 - ETA: 0s - loss: 1.0963 - acc: 0.360 - 9s - loss: 1.0962 - acc: 0.3588 - val_loss: 1.1051 - val_acc: 0.3100\n",
      "Epoch 6/6\n",
      "50/50 [==============================] - ETA: 7s - loss: 1.1416 - acc: 0.187 - ETA: 6s - loss: 1.1215 - acc: 0.234 - ETA: 6s - loss: 1.1188 - acc: 0.239 - ETA: 6s - loss: 1.1102 - acc: 0.296 - ETA: 5s - loss: 1.1070 - acc: 0.312 - ETA: 5s - loss: 1.1010 - acc: 0.359 - ETA: 5s - loss: 1.0991 - acc: 0.366 - ETA: 5s - loss: 1.0973 - acc: 0.375 - ETA: 5s - loss: 1.0958 - acc: 0.381 - ETA: 5s - loss: 1.0954 - acc: 0.375 - ETA: 5s - loss: 1.0938 - acc: 0.386 - ETA: 4s - loss: 1.0937 - acc: 0.382 - ETA: 4s - loss: 1.0950 - acc: 0.372 - ETA: 4s - loss: 1.0958 - acc: 0.366 - ETA: 4s - loss: 1.0963 - acc: 0.368 - ETA: 4s - loss: 1.0963 - acc: 0.373 - ETA: 4s - loss: 1.0965 - acc: 0.369 - ETA: 4s - loss: 1.0952 - acc: 0.375 - ETA: 4s - loss: 1.0962 - acc: 0.365 - ETA: 3s - loss: 1.0954 - acc: 0.362 - ETA: 3s - loss: 1.0947 - acc: 0.364 - ETA: 3s - loss: 1.0951 - acc: 0.360 - ETA: 3s - loss: 1.0951 - acc: 0.361 - ETA: 3s - loss: 1.0949 - acc: 0.360 - ETA: 3s - loss: 1.0947 - acc: 0.360 - ETA: 3s - loss: 1.0942 - acc: 0.357 - ETA: 3s - loss: 1.0941 - acc: 0.356 - ETA: 2s - loss: 1.0944 - acc: 0.356 - ETA: 2s - loss: 1.0945 - acc: 0.355 - ETA: 2s - loss: 1.0946 - acc: 0.354 - ETA: 2s - loss: 1.0947 - acc: 0.358 - ETA: 2s - loss: 1.0949 - acc: 0.358 - ETA: 2s - loss: 1.0950 - acc: 0.359 - ETA: 2s - loss: 1.0947 - acc: 0.358 - ETA: 2s - loss: 1.0947 - acc: 0.358 - ETA: 1s - loss: 1.0941 - acc: 0.363 - ETA: 1s - loss: 1.0944 - acc: 0.364 - ETA: 1s - loss: 1.0954 - acc: 0.364 - ETA: 1s - loss: 1.0961 - acc: 0.363 - ETA: 1s - loss: 1.0967 - acc: 0.362 - ETA: 1s - loss: 1.0964 - acc: 0.361 - ETA: 1s - loss: 1.0962 - acc: 0.362 - ETA: 0s - loss: 1.0962 - acc: 0.361 - ETA: 0s - loss: 1.0966 - acc: 0.358 - ETA: 0s - loss: 1.0966 - acc: 0.357 - ETA: 0s - loss: 1.0963 - acc: 0.360 - ETA: 0s - loss: 1.0963 - acc: 0.360 - ETA: 0s - loss: 1.0963 - acc: 0.361 - ETA: 0s - loss: 1.0967 - acc: 0.361 - 8s - loss: 1.0971 - acc: 0.3594 - val_loss: 1.0991 - val_acc: 0.3110\n"
     ]
    }
   ],
   "source": [
    "modelid = time.strftime(\"%Y%m%d%H%M%S\")\n",
    "\n",
    "callbacks_list = [\n",
    "    keras.callbacks.EarlyStopping(\n",
    "        monitor='val_acc',\n",
    "        patience=50),\n",
    "    keras.callbacks.ModelCheckpoint(\n",
    "        filepath='model_checkpoint_best_{}.h5'.format(modelid),\n",
    "        monitor='val_loss',\n",
    "        save_best_only=True),\n",
    "    keras.callbacks.TensorBoard(\n",
    "        log_dir='./logs/'+modelid,\n",
    "        histogram_freq=0, write_graph=False, write_images=False)\n",
    "]\n",
    "\n",
    "model = makeModel(32)\n",
    "history=model.fit_generator(\n",
    "                    generator(dataset_tr, batch_size, patchsize),\n",
    "                    steps_per_epoch=50, \n",
    "                    epochs=6, \n",
    "                    verbose=1,\n",
    "                    validation_data=(X_test,y_test),\n",
    "                    callbacks=callbacks_list)"
   ]
  },
  {
   "cell_type": "markdown",
   "metadata": {
    "slideshow": {
     "slide_type": "slide"
    }
   },
   "source": [
    "After training our model, we can save it to disk"
   ]
  },
  {
   "cell_type": "code",
   "execution_count": 25,
   "metadata": {
    "collapsed": true
   },
   "outputs": [],
   "source": [
    "modelname = \"input32\"\n",
    "\n",
    "# Save model to a file\n",
    "keras.models.save_model(model,\"{}.model\".format(modelname))\n",
    "\n",
    "# Also save the testing dataset (may be large) so we can pick up from here later \n",
    "dataset_te.to_pickle(\"{}.testingdata.pickle\".format(modelname))"
   ]
  },
  {
   "cell_type": "markdown",
   "metadata": {
    "slideshow": {
     "slide_type": "slide"
    }
   },
   "source": [
    "If you have time and want to experiment, you may train many networks exploring the parameter space"
   ]
  },
  {
   "cell_type": "code",
   "execution_count": 26,
   "metadata": {},
   "outputs": [
    {
     "name": "stdout",
     "output_type": "stream",
     "text": [
      "_________________________________________________________________\n",
      "Layer (type)                 Output Shape              Param #   \n",
      "=================================================================\n",
      "conv2d_7 (Conv2D)            (None, 32, 32, 1)         28        \n",
      "_________________________________________________________________\n",
      "activation_11 (Activation)   (None, 32, 32, 1)         0         \n",
      "_________________________________________________________________\n",
      "max_pooling2d_7 (MaxPooling2 (None, 16, 16, 1)         0         \n",
      "_________________________________________________________________\n",
      "conv2d_8 (Conv2D)            (None, 16, 16, 2)         20        \n",
      "_________________________________________________________________\n",
      "activation_12 (Activation)   (None, 16, 16, 2)         0         \n",
      "_________________________________________________________________\n",
      "max_pooling2d_8 (MaxPooling2 (None, 8, 8, 2)           0         \n",
      "_________________________________________________________________\n",
      "conv2d_9 (Conv2D)            (None, 8, 8, 4)           76        \n",
      "_________________________________________________________________\n",
      "activation_13 (Activation)   (None, 8, 8, 4)           0         \n",
      "_________________________________________________________________\n",
      "max_pooling2d_9 (MaxPooling2 (None, 4, 4, 4)           0         \n",
      "_________________________________________________________________\n",
      "average_pooling2d_3 (Average (None, 2, 2, 4)           0         \n",
      "_________________________________________________________________\n",
      "flatten_3 (Flatten)          (None, 16)                0         \n",
      "_________________________________________________________________\n",
      "dense_5 (Dense)              (None, 128)               2176      \n",
      "_________________________________________________________________\n",
      "activation_14 (Activation)   (None, 128)               0         \n",
      "_________________________________________________________________\n",
      "dropout_3 (Dropout)          (None, 128)               0         \n",
      "_________________________________________________________________\n",
      "dense_6 (Dense)              (None, 3)                 387       \n",
      "_________________________________________________________________\n",
      "activation_15 (Activation)   (None, 3)                 0         \n",
      "=================================================================\n",
      "Total params: 2,687\n",
      "Trainable params: 2,687\n",
      "Non-trainable params: 0\n",
      "_________________________________________________________________\n",
      "None\n",
      "2687\n",
      "Epoch 1/1\n",
      "50/50 [==============================] - ETA: 6s - loss: 1.0598 - acc: 0.468 - ETA: 5s - loss: 1.0888 - acc: 0.375 - ETA: 4s - loss: 1.0924 - acc: 0.364 - ETA: 4s - loss: 1.0954 - acc: 0.390 - ETA: 4s - loss: 1.0803 - acc: 0.431 - ETA: 4s - loss: 1.0963 - acc: 0.406 - ETA: 4s - loss: 1.0978 - acc: 0.401 - ETA: 4s - loss: 1.1020 - acc: 0.378 - ETA: 3s - loss: 1.1060 - acc: 0.364 - ETA: 3s - loss: 1.1036 - acc: 0.368 - ETA: 3s - loss: 1.1079 - acc: 0.358 - ETA: 3s - loss: 1.1076 - acc: 0.354 - ETA: 3s - loss: 1.1075 - acc: 0.346 - ETA: 3s - loss: 1.1075 - acc: 0.341 - ETA: 3s - loss: 1.1078 - acc: 0.339 - ETA: 3s - loss: 1.1065 - acc: 0.341 - ETA: 3s - loss: 1.1084 - acc: 0.338 - ETA: 3s - loss: 1.1081 - acc: 0.338 - ETA: 2s - loss: 1.1074 - acc: 0.340 - ETA: 2s - loss: 1.1072 - acc: 0.346 - ETA: 2s - loss: 1.1073 - acc: 0.340 - ETA: 2s - loss: 1.1068 - acc: 0.335 - ETA: 2s - loss: 1.1068 - acc: 0.338 - ETA: 2s - loss: 1.1063 - acc: 0.338 - ETA: 2s - loss: 1.1063 - acc: 0.336 - ETA: 2s - loss: 1.1061 - acc: 0.335 - ETA: 2s - loss: 1.1057 - acc: 0.339 - ETA: 2s - loss: 1.1054 - acc: 0.340 - ETA: 2s - loss: 1.1049 - acc: 0.341 - ETA: 1s - loss: 1.1048 - acc: 0.339 - ETA: 1s - loss: 1.1047 - acc: 0.339 - ETA: 1s - loss: 1.1045 - acc: 0.338 - ETA: 1s - loss: 1.1046 - acc: 0.338 - ETA: 1s - loss: 1.1044 - acc: 0.341 - ETA: 1s - loss: 1.1037 - acc: 0.344 - ETA: 1s - loss: 1.1037 - acc: 0.342 - ETA: 1s - loss: 1.1037 - acc: 0.342 - ETA: 1s - loss: 1.1031 - acc: 0.348 - ETA: 1s - loss: 1.1029 - acc: 0.348 - ETA: 0s - loss: 1.1028 - acc: 0.347 - ETA: 0s - loss: 1.1030 - acc: 0.346 - ETA: 0s - loss: 1.1032 - acc: 0.347 - ETA: 0s - loss: 1.1029 - acc: 0.348 - ETA: 0s - loss: 1.1028 - acc: 0.350 - ETA: 0s - loss: 1.1025 - acc: 0.350 - ETA: 0s - loss: 1.1023 - acc: 0.350 - ETA: 0s - loss: 1.1019 - acc: 0.353 - ETA: 0s - loss: 1.1016 - acc: 0.354 - ETA: 0s - loss: 1.1014 - acc: 0.355 - 5s - loss: 1.1014 - acc: 0.3544 - val_loss: 1.0994 - val_acc: 0.3190\n",
      "_________________________________________________________________\n",
      "Layer (type)                 Output Shape              Param #   \n",
      "=================================================================\n",
      "conv2d_10 (Conv2D)           (None, 32, 32, 2)         56        \n",
      "_________________________________________________________________\n",
      "activation_16 (Activation)   (None, 32, 32, 2)         0         \n",
      "_________________________________________________________________\n",
      "max_pooling2d_10 (MaxPooling (None, 16, 16, 2)         0         \n",
      "_________________________________________________________________\n",
      "conv2d_11 (Conv2D)           (None, 16, 16, 4)         76        \n",
      "_________________________________________________________________\n",
      "activation_17 (Activation)   (None, 16, 16, 4)         0         \n",
      "_________________________________________________________________\n",
      "max_pooling2d_11 (MaxPooling (None, 8, 8, 4)           0         \n",
      "_________________________________________________________________\n",
      "conv2d_12 (Conv2D)           (None, 8, 8, 8)           296       \n",
      "_________________________________________________________________\n",
      "activation_18 (Activation)   (None, 8, 8, 8)           0         \n",
      "_________________________________________________________________\n",
      "max_pooling2d_12 (MaxPooling (None, 4, 4, 8)           0         \n",
      "_________________________________________________________________\n",
      "average_pooling2d_4 (Average (None, 2, 2, 8)           0         \n",
      "_________________________________________________________________\n",
      "flatten_4 (Flatten)          (None, 32)                0         \n",
      "_________________________________________________________________\n",
      "dense_7 (Dense)              (None, 128)               4224      \n",
      "_________________________________________________________________\n",
      "activation_19 (Activation)   (None, 128)               0         \n",
      "_________________________________________________________________\n",
      "dropout_4 (Dropout)          (None, 128)               0         \n",
      "_________________________________________________________________\n",
      "dense_8 (Dense)              (None, 3)                 387       \n",
      "_________________________________________________________________\n",
      "activation_20 (Activation)   (None, 3)                 0         \n",
      "=================================================================\n",
      "Total params: 5,039\n",
      "Trainable params: 5,039\n",
      "Non-trainable params: 0\n",
      "_________________________________________________________________\n",
      "None\n",
      "5039\n",
      "Epoch 1/1\n",
      "50/50 [==============================] - ETA: 7s - loss: 1.1016 - acc: 0.218 - ETA: 4s - loss: 1.1005 - acc: 0.265 - ETA: 5s - loss: 1.0984 - acc: 0.281 - ETA: 4s - loss: 1.0977 - acc: 0.320 - ETA: 4s - loss: 1.0971 - acc: 0.331 - ETA: 4s - loss: 1.0976 - acc: 0.328 - ETA: 4s - loss: 1.0985 - acc: 0.325 - ETA: 4s - loss: 1.0990 - acc: 0.324 - ETA: 3s - loss: 1.0992 - acc: 0.312 - ETA: 3s - loss: 1.0992 - acc: 0.312 - ETA: 3s - loss: 1.0995 - acc: 0.304 - ETA: 3s - loss: 1.1004 - acc: 0.296 - ETA: 3s - loss: 1.1007 - acc: 0.288 - ETA: 3s - loss: 1.1005 - acc: 0.287 - ETA: 3s - loss: 1.1006 - acc: 0.287 - ETA: 3s - loss: 1.1005 - acc: 0.294 - ETA: 3s - loss: 1.1004 - acc: 0.301 - ETA: 2s - loss: 1.1000 - acc: 0.309 - ETA: 2s - loss: 1.1002 - acc: 0.304 - ETA: 2s - loss: 1.1000 - acc: 0.310 - ETA: 2s - loss: 1.0998 - acc: 0.317 - ETA: 2s - loss: 1.0999 - acc: 0.311 - ETA: 2s - loss: 1.0999 - acc: 0.308 - ETA: 2s - loss: 1.1000 - acc: 0.308 - ETA: 2s - loss: 1.1000 - acc: 0.308 - ETA: 2s - loss: 1.1000 - acc: 0.310 - ETA: 2s - loss: 1.1001 - acc: 0.307 - ETA: 1s - loss: 1.0999 - acc: 0.311 - ETA: 1s - loss: 1.1000 - acc: 0.310 - ETA: 1s - loss: 1.1001 - acc: 0.310 - ETA: 1s - loss: 1.0999 - acc: 0.312 - ETA: 1s - loss: 1.0998 - acc: 0.314 - ETA: 1s - loss: 1.0996 - acc: 0.317 - ETA: 1s - loss: 1.0995 - acc: 0.316 - ETA: 1s - loss: 1.0995 - acc: 0.314 - ETA: 1s - loss: 1.0994 - acc: 0.316 - ETA: 1s - loss: 1.0994 - acc: 0.315 - ETA: 1s - loss: 1.0992 - acc: 0.316 - ETA: 0s - loss: 1.0993 - acc: 0.315 - ETA: 0s - loss: 1.0991 - acc: 0.317 - ETA: 0s - loss: 1.0990 - acc: 0.320 - ETA: 0s - loss: 1.0988 - acc: 0.322 - ETA: 0s - loss: 1.0988 - acc: 0.320 - ETA: 0s - loss: 1.0991 - acc: 0.317 - ETA: 0s - loss: 1.0991 - acc: 0.318 - ETA: 0s - loss: 1.0991 - acc: 0.319 - ETA: 0s - loss: 1.0991 - acc: 0.321 - ETA: 0s - loss: 1.0991 - acc: 0.322 - ETA: 0s - loss: 1.0991 - acc: 0.322 - 4s - loss: 1.0989 - acc: 0.3263 - val_loss: 1.0980 - val_acc: 0.3100\n",
      "_________________________________________________________________\n",
      "Layer (type)                 Output Shape              Param #   \n",
      "=================================================================\n",
      "conv2d_13 (Conv2D)           (None, 32, 32, 4)         112       \n",
      "_________________________________________________________________\n",
      "activation_21 (Activation)   (None, 32, 32, 4)         0         \n",
      "_________________________________________________________________\n",
      "max_pooling2d_13 (MaxPooling (None, 16, 16, 4)         0         \n",
      "_________________________________________________________________\n",
      "conv2d_14 (Conv2D)           (None, 16, 16, 8)         296       \n",
      "_________________________________________________________________\n",
      "activation_22 (Activation)   (None, 16, 16, 8)         0         \n",
      "_________________________________________________________________\n",
      "max_pooling2d_14 (MaxPooling (None, 8, 8, 8)           0         \n",
      "_________________________________________________________________\n",
      "conv2d_15 (Conv2D)           (None, 8, 8, 16)          1168      \n",
      "_________________________________________________________________\n",
      "activation_23 (Activation)   (None, 8, 8, 16)          0         \n",
      "_________________________________________________________________\n",
      "max_pooling2d_15 (MaxPooling (None, 4, 4, 16)          0         \n",
      "_________________________________________________________________\n",
      "average_pooling2d_5 (Average (None, 2, 2, 16)          0         \n",
      "_________________________________________________________________\n",
      "flatten_5 (Flatten)          (None, 64)                0         \n",
      "_________________________________________________________________\n",
      "dense_9 (Dense)              (None, 128)               8320      \n",
      "_________________________________________________________________\n",
      "activation_24 (Activation)   (None, 128)               0         \n",
      "_________________________________________________________________\n",
      "dropout_5 (Dropout)          (None, 128)               0         \n",
      "_________________________________________________________________\n",
      "dense_10 (Dense)             (None, 3)                 387       \n",
      "_________________________________________________________________\n",
      "activation_25 (Activation)   (None, 3)                 0         \n",
      "=================================================================\n",
      "Total params: 10,283\n",
      "Trainable params: 10,283\n",
      "Non-trainable params: 0\n",
      "_________________________________________________________________\n",
      "None\n",
      "10283\n",
      "Epoch 1/1\n",
      "50/50 [==============================] - ETA: 6s - loss: 1.0918 - acc: 0.375 - ETA: 4s - loss: 1.1031 - acc: 0.281 - ETA: 4s - loss: 1.1024 - acc: 0.270 - ETA: 4s - loss: 1.1038 - acc: 0.250 - ETA: 4s - loss: 1.1024 - acc: 0.262 - ETA: 3s - loss: 1.1019 - acc: 0.281 - ETA: 3s - loss: 1.1005 - acc: 0.281 - ETA: 3s - loss: 1.0996 - acc: 0.277 - ETA: 3s - loss: 1.0994 - acc: 0.277 - ETA: 3s - loss: 1.0991 - acc: 0.287 - ETA: 3s - loss: 1.0984 - acc: 0.301 - ETA: 3s - loss: 1.0985 - acc: 0.302 - ETA: 3s - loss: 1.0985 - acc: 0.307 - ETA: 3s - loss: 1.0979 - acc: 0.312 - ETA: 3s - loss: 1.0982 - acc: 0.314 - ETA: 3s - loss: 1.0977 - acc: 0.322 - ETA: 3s - loss: 1.0981 - acc: 0.314 - ETA: 2s - loss: 1.0969 - acc: 0.322 - ETA: 2s - loss: 1.0967 - acc: 0.327 - ETA: 2s - loss: 1.0968 - acc: 0.326 - ETA: 2s - loss: 1.0981 - acc: 0.315 - ETA: 2s - loss: 1.0982 - acc: 0.315 - ETA: 2s - loss: 1.0984 - acc: 0.316 - ETA: 2s - loss: 1.0976 - acc: 0.325 - ETA: 2s - loss: 1.0979 - acc: 0.322 - ETA: 2s - loss: 1.0978 - acc: 0.323 - ETA: 2s - loss: 1.0975 - acc: 0.329 - ETA: 1s - loss: 1.0973 - acc: 0.331 - ETA: 1s - loss: 1.0974 - acc: 0.330 - ETA: 1s - loss: 1.0976 - acc: 0.330 - ETA: 1s - loss: 1.0978 - acc: 0.329 - ETA: 1s - loss: 1.0975 - acc: 0.333 - ETA: 1s - loss: 1.0980 - acc: 0.329 - ETA: 1s - loss: 1.0979 - acc: 0.330 - ETA: 1s - loss: 1.0978 - acc: 0.329 - ETA: 1s - loss: 1.0976 - acc: 0.330 - ETA: 1s - loss: 1.0973 - acc: 0.333 - ETA: 1s - loss: 1.0974 - acc: 0.333 - ETA: 0s - loss: 1.0970 - acc: 0.334 - ETA: 0s - loss: 1.0972 - acc: 0.335 - ETA: 0s - loss: 1.0972 - acc: 0.335 - ETA: 0s - loss: 1.0969 - acc: 0.337 - ETA: 0s - loss: 1.0966 - acc: 0.340 - ETA: 0s - loss: 1.0966 - acc: 0.339 - ETA: 0s - loss: 1.0966 - acc: 0.338 - ETA: 0s - loss: 1.0964 - acc: 0.339 - ETA: 0s - loss: 1.0965 - acc: 0.338 - ETA: 0s - loss: 1.0967 - acc: 0.337 - ETA: 0s - loss: 1.0970 - acc: 0.334 - 5s - loss: 1.0969 - acc: 0.3362 - val_loss: 1.0997 - val_acc: 0.3100\n",
      "_________________________________________________________________\n",
      "Layer (type)                 Output Shape              Param #   \n",
      "=================================================================\n",
      "conv2d_16 (Conv2D)           (None, 32, 32, 8)         224       \n",
      "_________________________________________________________________\n",
      "activation_26 (Activation)   (None, 32, 32, 8)         0         \n",
      "_________________________________________________________________\n",
      "max_pooling2d_16 (MaxPooling (None, 16, 16, 8)         0         \n",
      "_________________________________________________________________\n",
      "conv2d_17 (Conv2D)           (None, 16, 16, 16)        1168      \n",
      "_________________________________________________________________\n",
      "activation_27 (Activation)   (None, 16, 16, 16)        0         \n",
      "_________________________________________________________________\n",
      "max_pooling2d_17 (MaxPooling (None, 8, 8, 16)          0         \n",
      "_________________________________________________________________\n",
      "conv2d_18 (Conv2D)           (None, 8, 8, 32)          4640      \n",
      "_________________________________________________________________\n",
      "activation_28 (Activation)   (None, 8, 8, 32)          0         \n",
      "_________________________________________________________________\n",
      "max_pooling2d_18 (MaxPooling (None, 4, 4, 32)          0         \n",
      "_________________________________________________________________\n",
      "average_pooling2d_6 (Average (None, 2, 2, 32)          0         \n",
      "_________________________________________________________________\n",
      "flatten_6 (Flatten)          (None, 128)               0         \n",
      "_________________________________________________________________\n",
      "dense_11 (Dense)             (None, 128)               16512     \n",
      "_________________________________________________________________\n"
     ]
    },
    {
     "name": "stdout",
     "output_type": "stream",
     "text": [
      "activation_29 (Activation)   (None, 128)               0         \n",
      "_________________________________________________________________\n",
      "dropout_6 (Dropout)          (None, 128)               0         \n",
      "_________________________________________________________________\n",
      "dense_12 (Dense)             (None, 3)                 387       \n",
      "_________________________________________________________________\n",
      "activation_30 (Activation)   (None, 3)                 0         \n",
      "=================================================================\n",
      "Total params: 22,931\n",
      "Trainable params: 22,931\n",
      "Non-trainable params: 0\n",
      "_________________________________________________________________\n",
      "None\n",
      "22931\n",
      "Epoch 1/1\n",
      "50/50 [==============================] - ETA: 6s - loss: 1.0910 - acc: 0.437 - ETA: 4s - loss: 1.0965 - acc: 0.390 - ETA: 4s - loss: 1.0955 - acc: 0.385 - ETA: 4s - loss: 1.1050 - acc: 0.343 - ETA: 4s - loss: 1.1004 - acc: 0.350 - ETA: 4s - loss: 1.0987 - acc: 0.349 - ETA: 4s - loss: 1.1006 - acc: 0.343 - ETA: 4s - loss: 1.0980 - acc: 0.332 - ETA: 4s - loss: 1.1025 - acc: 0.329 - ETA: 3s - loss: 1.1010 - acc: 0.331 - ETA: 3s - loss: 1.1020 - acc: 0.332 - ETA: 3s - loss: 1.1041 - acc: 0.330 - ETA: 3s - loss: 1.1082 - acc: 0.312 - ETA: 3s - loss: 1.1096 - acc: 0.308 - ETA: 3s - loss: 1.1107 - acc: 0.304 - ETA: 3s - loss: 1.1106 - acc: 0.302 - ETA: 3s - loss: 1.1086 - acc: 0.310 - ETA: 3s - loss: 1.1079 - acc: 0.312 - ETA: 2s - loss: 1.1070 - acc: 0.315 - ETA: 2s - loss: 1.1076 - acc: 0.310 - ETA: 2s - loss: 1.1070 - acc: 0.312 - ETA: 2s - loss: 1.1070 - acc: 0.312 - ETA: 2s - loss: 1.1065 - acc: 0.312 - ETA: 2s - loss: 1.1065 - acc: 0.313 - ETA: 2s - loss: 1.1064 - acc: 0.315 - ETA: 2s - loss: 1.1065 - acc: 0.314 - ETA: 2s - loss: 1.1060 - acc: 0.320 - ETA: 2s - loss: 1.1057 - acc: 0.318 - ETA: 1s - loss: 1.1058 - acc: 0.315 - ETA: 1s - loss: 1.1057 - acc: 0.314 - ETA: 1s - loss: 1.1055 - acc: 0.315 - ETA: 1s - loss: 1.1052 - acc: 0.317 - ETA: 1s - loss: 1.1050 - acc: 0.319 - ETA: 1s - loss: 1.1046 - acc: 0.321 - ETA: 1s - loss: 1.1046 - acc: 0.318 - ETA: 1s - loss: 1.1043 - acc: 0.321 - ETA: 1s - loss: 1.1040 - acc: 0.320 - ETA: 1s - loss: 1.1037 - acc: 0.323 - ETA: 1s - loss: 1.1036 - acc: 0.322 - ETA: 0s - loss: 1.1036 - acc: 0.324 - ETA: 0s - loss: 1.1035 - acc: 0.323 - ETA: 0s - loss: 1.1032 - acc: 0.327 - ETA: 0s - loss: 1.1030 - acc: 0.327 - ETA: 0s - loss: 1.1030 - acc: 0.327 - ETA: 0s - loss: 1.1027 - acc: 0.328 - ETA: 0s - loss: 1.1028 - acc: 0.327 - ETA: 0s - loss: 1.1025 - acc: 0.331 - ETA: 0s - loss: 1.1023 - acc: 0.332 - ETA: 0s - loss: 1.1023 - acc: 0.329 - 5s - loss: 1.1024 - acc: 0.3300 - val_loss: 1.0981 - val_acc: 0.3740\n",
      "_________________________________________________________________\n",
      "Layer (type)                 Output Shape              Param #   \n",
      "=================================================================\n",
      "conv2d_19 (Conv2D)           (None, 32, 32, 16)        448       \n",
      "_________________________________________________________________\n",
      "activation_31 (Activation)   (None, 32, 32, 16)        0         \n",
      "_________________________________________________________________\n",
      "max_pooling2d_19 (MaxPooling (None, 16, 16, 16)        0         \n",
      "_________________________________________________________________\n",
      "conv2d_20 (Conv2D)           (None, 16, 16, 32)        4640      \n",
      "_________________________________________________________________\n",
      "activation_32 (Activation)   (None, 16, 16, 32)        0         \n",
      "_________________________________________________________________\n",
      "max_pooling2d_20 (MaxPooling (None, 8, 8, 32)          0         \n",
      "_________________________________________________________________\n",
      "conv2d_21 (Conv2D)           (None, 8, 8, 64)          18496     \n",
      "_________________________________________________________________\n",
      "activation_33 (Activation)   (None, 8, 8, 64)          0         \n",
      "_________________________________________________________________\n",
      "max_pooling2d_21 (MaxPooling (None, 4, 4, 64)          0         \n",
      "_________________________________________________________________\n",
      "average_pooling2d_7 (Average (None, 2, 2, 64)          0         \n",
      "_________________________________________________________________\n",
      "flatten_7 (Flatten)          (None, 256)               0         \n",
      "_________________________________________________________________\n",
      "dense_13 (Dense)             (None, 128)               32896     \n",
      "_________________________________________________________________\n",
      "activation_34 (Activation)   (None, 128)               0         \n",
      "_________________________________________________________________\n",
      "dropout_7 (Dropout)          (None, 128)               0         \n",
      "_________________________________________________________________\n",
      "dense_14 (Dense)             (None, 3)                 387       \n",
      "_________________________________________________________________\n",
      "activation_35 (Activation)   (None, 3)                 0         \n",
      "=================================================================\n",
      "Total params: 56,867\n",
      "Trainable params: 56,867\n",
      "Non-trainable params: 0\n",
      "_________________________________________________________________\n",
      "None\n",
      "56867\n",
      "Epoch 1/1\n",
      "50/50 [==============================] - ETA: 8s - loss: 1.0995 - acc: 0.312 - ETA: 5s - loss: 1.1043 - acc: 0.281 - ETA: 5s - loss: 1.0954 - acc: 0.333 - ETA: 5s - loss: 1.0956 - acc: 0.351 - ETA: 5s - loss: 1.1073 - acc: 0.331 - ETA: 4s - loss: 1.1087 - acc: 0.307 - ETA: 4s - loss: 1.1081 - acc: 0.308 - ETA: 4s - loss: 1.1072 - acc: 0.308 - ETA: 4s - loss: 1.1052 - acc: 0.312 - ETA: 4s - loss: 1.1069 - acc: 0.306 - ETA: 4s - loss: 1.1045 - acc: 0.318 - ETA: 4s - loss: 1.1046 - acc: 0.312 - ETA: 4s - loss: 1.1056 - acc: 0.307 - ETA: 3s - loss: 1.1064 - acc: 0.299 - ETA: 3s - loss: 1.1073 - acc: 0.295 - ETA: 3s - loss: 1.1077 - acc: 0.293 - ETA: 3s - loss: 1.1064 - acc: 0.297 - ETA: 3s - loss: 1.1070 - acc: 0.293 - ETA: 3s - loss: 1.1072 - acc: 0.289 - ETA: 3s - loss: 1.1078 - acc: 0.284 - ETA: 3s - loss: 1.1069 - acc: 0.287 - ETA: 3s - loss: 1.1062 - acc: 0.289 - ETA: 2s - loss: 1.1056 - acc: 0.292 - ETA: 2s - loss: 1.1049 - acc: 0.298 - ETA: 2s - loss: 1.1050 - acc: 0.296 - ETA: 2s - loss: 1.1046 - acc: 0.301 - ETA: 2s - loss: 1.1039 - acc: 0.307 - ETA: 2s - loss: 1.1038 - acc: 0.309 - ETA: 2s - loss: 1.1041 - acc: 0.306 - ETA: 2s - loss: 1.1039 - acc: 0.307 - ETA: 2s - loss: 1.1037 - acc: 0.305 - ETA: 1s - loss: 1.1035 - acc: 0.304 - ETA: 1s - loss: 1.1032 - acc: 0.307 - ETA: 1s - loss: 1.1032 - acc: 0.307 - ETA: 1s - loss: 1.1029 - acc: 0.308 - ETA: 1s - loss: 1.1029 - acc: 0.308 - ETA: 1s - loss: 1.1029 - acc: 0.308 - ETA: 1s - loss: 1.1031 - acc: 0.305 - ETA: 1s - loss: 1.1029 - acc: 0.306 - ETA: 1s - loss: 1.1026 - acc: 0.307 - ETA: 0s - loss: 1.1024 - acc: 0.306 - ETA: 0s - loss: 1.1025 - acc: 0.305 - ETA: 0s - loss: 1.1026 - acc: 0.303 - ETA: 0s - loss: 1.1025 - acc: 0.306 - ETA: 0s - loss: 1.1022 - acc: 0.309 - ETA: 0s - loss: 1.1019 - acc: 0.310 - ETA: 0s - loss: 1.1016 - acc: 0.312 - ETA: 0s - loss: 1.1015 - acc: 0.313 - ETA: 0s - loss: 1.1015 - acc: 0.314 - 6s - loss: 1.1015 - acc: 0.3137 - val_loss: 1.1018 - val_acc: 0.3100\n",
      "_________________________________________________________________\n",
      "Layer (type)                 Output Shape              Param #   \n",
      "=================================================================\n",
      "conv2d_22 (Conv2D)           (None, 32, 32, 32)        896       \n",
      "_________________________________________________________________\n",
      "activation_36 (Activation)   (None, 32, 32, 32)        0         \n",
      "_________________________________________________________________\n",
      "max_pooling2d_22 (MaxPooling (None, 16, 16, 32)        0         \n",
      "_________________________________________________________________\n",
      "conv2d_23 (Conv2D)           (None, 16, 16, 64)        18496     \n",
      "_________________________________________________________________\n",
      "activation_37 (Activation)   (None, 16, 16, 64)        0         \n",
      "_________________________________________________________________\n",
      "max_pooling2d_23 (MaxPooling (None, 8, 8, 64)          0         \n",
      "_________________________________________________________________\n",
      "conv2d_24 (Conv2D)           (None, 8, 8, 128)         73856     \n",
      "_________________________________________________________________\n",
      "activation_38 (Activation)   (None, 8, 8, 128)         0         \n",
      "_________________________________________________________________\n",
      "max_pooling2d_24 (MaxPooling (None, 4, 4, 128)         0         \n",
      "_________________________________________________________________\n",
      "average_pooling2d_8 (Average (None, 2, 2, 128)         0         \n",
      "_________________________________________________________________\n",
      "flatten_8 (Flatten)          (None, 512)               0         \n",
      "_________________________________________________________________\n",
      "dense_15 (Dense)             (None, 128)               65664     \n",
      "_________________________________________________________________\n",
      "activation_39 (Activation)   (None, 128)               0         \n",
      "_________________________________________________________________\n",
      "dropout_8 (Dropout)          (None, 128)               0         \n",
      "_________________________________________________________________\n",
      "dense_16 (Dense)             (None, 3)                 387       \n",
      "_________________________________________________________________\n",
      "activation_40 (Activation)   (None, 3)                 0         \n",
      "=================================================================\n",
      "Total params: 159,299\n",
      "Trainable params: 159,299\n",
      "Non-trainable params: 0\n",
      "_________________________________________________________________\n",
      "None\n",
      "159299\n",
      "Epoch 1/1\n",
      "50/50 [==============================] - ETA: 13s - loss: 1.1117 - acc: 0.28 - ETA: 9s - loss: 1.0973 - acc: 0.2969 - ETA: 9s - loss: 1.0781 - acc: 0.364 - ETA: 8s - loss: 1.0913 - acc: 0.351 - ETA: 8s - loss: 1.1134 - acc: 0.318 - ETA: 8s - loss: 1.1083 - acc: 0.343 - ETA: 7s - loss: 1.1126 - acc: 0.325 - ETA: 7s - loss: 1.1148 - acc: 0.316 - ETA: 7s - loss: 1.1123 - acc: 0.319 - ETA: 6s - loss: 1.1128 - acc: 0.315 - ETA: 6s - loss: 1.1139 - acc: 0.306 - ETA: 6s - loss: 1.1109 - acc: 0.315 - ETA: 6s - loss: 1.1092 - acc: 0.324 - ETA: 5s - loss: 1.1085 - acc: 0.328 - ETA: 5s - loss: 1.1080 - acc: 0.329 - ETA: 5s - loss: 1.1078 - acc: 0.332 - ETA: 5s - loss: 1.1075 - acc: 0.330 - ETA: 5s - loss: 1.1065 - acc: 0.335 - ETA: 4s - loss: 1.1061 - acc: 0.337 - ETA: 4s - loss: 1.1067 - acc: 0.340 - ETA: 4s - loss: 1.1061 - acc: 0.342 - ETA: 4s - loss: 1.1058 - acc: 0.346 - ETA: 4s - loss: 1.1051 - acc: 0.347 - ETA: 4s - loss: 1.1050 - acc: 0.343 - ETA: 3s - loss: 1.1053 - acc: 0.340 - ETA: 3s - loss: 1.1047 - acc: 0.341 - ETA: 3s - loss: 1.1047 - acc: 0.342 - ETA: 3s - loss: 1.1046 - acc: 0.343 - ETA: 3s - loss: 1.1048 - acc: 0.339 - ETA: 3s - loss: 1.1046 - acc: 0.337 - ETA: 2s - loss: 1.1048 - acc: 0.333 - ETA: 2s - loss: 1.1048 - acc: 0.329 - ETA: 2s - loss: 1.1045 - acc: 0.328 - ETA: 2s - loss: 1.1044 - acc: 0.328 - ETA: 2s - loss: 1.1042 - acc: 0.329 - ETA: 2s - loss: 1.1040 - acc: 0.332 - ETA: 2s - loss: 1.1038 - acc: 0.331 - ETA: 1s - loss: 1.1036 - acc: 0.331 - ETA: 1s - loss: 1.1035 - acc: 0.331 - ETA: 1s - loss: 1.1034 - acc: 0.330 - ETA: 1s - loss: 1.1032 - acc: 0.332 - ETA: 1s - loss: 1.1034 - acc: 0.330 - ETA: 1s - loss: 1.1031 - acc: 0.332 - ETA: 0s - loss: 1.1031 - acc: 0.331 - ETA: 0s - loss: 1.1029 - acc: 0.331 - ETA: 0s - loss: 1.1028 - acc: 0.331 - ETA: 0s - loss: 1.1024 - acc: 0.333 - ETA: 0s - loss: 1.1023 - acc: 0.334 - ETA: 0s - loss: 1.1021 - acc: 0.336 - 9s - loss: 1.1021 - acc: 0.3356 - val_loss: 1.0994 - val_acc: 0.3570\n",
      "_________________________________________________________________\n",
      "Layer (type)                 Output Shape              Param #   \n",
      "=================================================================\n",
      "conv2d_25 (Conv2D)           (None, 32, 32, 48)        1344      \n",
      "_________________________________________________________________\n",
      "activation_41 (Activation)   (None, 32, 32, 48)        0         \n",
      "_________________________________________________________________\n",
      "max_pooling2d_25 (MaxPooling (None, 16, 16, 48)        0         \n",
      "_________________________________________________________________\n",
      "conv2d_26 (Conv2D)           (None, 16, 16, 96)        41568     \n",
      "_________________________________________________________________\n",
      "activation_42 (Activation)   (None, 16, 16, 96)        0         \n",
      "_________________________________________________________________\n",
      "max_pooling2d_26 (MaxPooling (None, 8, 8, 96)          0         \n",
      "_________________________________________________________________\n",
      "conv2d_27 (Conv2D)           (None, 8, 8, 192)         166080    \n",
      "_________________________________________________________________\n",
      "activation_43 (Activation)   (None, 8, 8, 192)         0         \n",
      "_________________________________________________________________\n",
      "max_pooling2d_27 (MaxPooling (None, 4, 4, 192)         0         \n",
      "_________________________________________________________________\n",
      "average_pooling2d_9 (Average (None, 2, 2, 192)         0         \n",
      "_________________________________________________________________\n",
      "flatten_9 (Flatten)          (None, 768)               0         \n",
      "_________________________________________________________________\n",
      "dense_17 (Dense)             (None, 128)               98432     \n",
      "_________________________________________________________________\n",
      "activation_44 (Activation)   (None, 128)               0         \n",
      "_________________________________________________________________\n",
      "dropout_9 (Dropout)          (None, 128)               0         \n",
      "_________________________________________________________________\n",
      "dense_18 (Dense)             (None, 3)                 387       \n",
      "_________________________________________________________________\n",
      "activation_45 (Activation)   (None, 3)                 0         \n",
      "=================================================================\n",
      "Total params: 307,811\n",
      "Trainable params: 307,811\n",
      "Non-trainable params: 0\n",
      "_________________________________________________________________\n",
      "None\n",
      "307811\n",
      "Epoch 1/1\n",
      "50/50 [==============================] - ETA: 14s - loss: 1.0909 - acc: 0.21 - ETA: 12s - loss: 1.1339 - acc: 0.18 - ETA: 11s - loss: 1.1218 - acc: 0.20 - ETA: 10s - loss: 1.1219 - acc: 0.24 - ETA: 10s - loss: 1.1234 - acc: 0.24 - ETA: 9s - loss: 1.1229 - acc: 0.2708 - ETA: 9s - loss: 1.1186 - acc: 0.290 - ETA: 9s - loss: 1.1163 - acc: 0.293 - ETA: 9s - loss: 1.1164 - acc: 0.291 - ETA: 8s - loss: 1.1147 - acc: 0.290 - ETA: 8s - loss: 1.1144 - acc: 0.284 - ETA: 8s - loss: 1.1134 - acc: 0.289 - ETA: 8s - loss: 1.1113 - acc: 0.300 - ETA: 7s - loss: 1.1104 - acc: 0.303 - ETA: 7s - loss: 1.1088 - acc: 0.318 - ETA: 7s - loss: 1.1100 - acc: 0.318 - ETA: 7s - loss: 1.1088 - acc: 0.325 - ETA: 6s - loss: 1.1076 - acc: 0.335 - ETA: 6s - loss: 1.1068 - acc: 0.338 - ETA: 6s - loss: 1.1069 - acc: 0.334 - ETA: 6s - loss: 1.1064 - acc: 0.331 - ETA: 5s - loss: 1.1060 - acc: 0.336 - ETA: 5s - loss: 1.1060 - acc: 0.335 - ETA: 5s - loss: 1.1054 - acc: 0.342 - ETA: 5s - loss: 1.1056 - acc: 0.342 - ETA: 5s - loss: 1.1047 - acc: 0.343 - ETA: 5s - loss: 1.1048 - acc: 0.342 - ETA: 4s - loss: 1.1048 - acc: 0.340 - ETA: 4s - loss: 1.1056 - acc: 0.340 - ETA: 4s - loss: 1.1058 - acc: 0.337 - ETA: 4s - loss: 1.1052 - acc: 0.338 - ETA: 3s - loss: 1.1045 - acc: 0.343 - ETA: 3s - loss: 1.1041 - acc: 0.341 - ETA: 3s - loss: 1.1043 - acc: 0.338 - ETA: 3s - loss: 1.1042 - acc: 0.337 - ETA: 3s - loss: 1.1044 - acc: 0.333 - ETA: 2s - loss: 1.1040 - acc: 0.335 - ETA: 2s - loss: 1.1042 - acc: 0.331 - ETA: 2s - loss: 1.1040 - acc: 0.332 - ETA: 2s - loss: 1.1037 - acc: 0.333 - ETA: 2s - loss: 1.1038 - acc: 0.330 - ETA: 1s - loss: 1.1038 - acc: 0.328 - ETA: 1s - loss: 1.1038 - acc: 0.327 - ETA: 1s - loss: 1.1038 - acc: 0.327 - ETA: 1s - loss: 1.1037 - acc: 0.326 - ETA: 0s - loss: 1.1035 - acc: 0.326 - ETA: 0s - loss: 1.1034 - acc: 0.323 - ETA: 0s - loss: 1.1032 - acc: 0.324 - ETA: 0s - loss: 1.1029 - acc: 0.329 - 13s - loss: 1.1027 - acc: 0.3319 - val_loss: 1.0982 - val_acc: 0.3570\n",
      "_________________________________________________________________\n",
      "Layer (type)                 Output Shape              Param #   \n",
      "=================================================================\n",
      "conv2d_28 (Conv2D)           (None, 32, 32, 64)        1792      \n",
      "_________________________________________________________________\n"
     ]
    },
    {
     "name": "stdout",
     "output_type": "stream",
     "text": [
      "activation_46 (Activation)   (None, 32, 32, 64)        0         \n",
      "_________________________________________________________________\n",
      "max_pooling2d_28 (MaxPooling (None, 16, 16, 64)        0         \n",
      "_________________________________________________________________\n",
      "conv2d_29 (Conv2D)           (None, 16, 16, 128)       73856     \n",
      "_________________________________________________________________\n",
      "activation_47 (Activation)   (None, 16, 16, 128)       0         \n",
      "_________________________________________________________________\n",
      "max_pooling2d_29 (MaxPooling (None, 8, 8, 128)         0         \n",
      "_________________________________________________________________\n",
      "conv2d_30 (Conv2D)           (None, 8, 8, 256)         295168    \n",
      "_________________________________________________________________\n",
      "activation_48 (Activation)   (None, 8, 8, 256)         0         \n",
      "_________________________________________________________________\n",
      "max_pooling2d_30 (MaxPooling (None, 4, 4, 256)         0         \n",
      "_________________________________________________________________\n",
      "average_pooling2d_10 (Averag (None, 2, 2, 256)         0         \n",
      "_________________________________________________________________\n",
      "flatten_10 (Flatten)         (None, 1024)              0         \n",
      "_________________________________________________________________\n",
      "dense_19 (Dense)             (None, 128)               131200    \n",
      "_________________________________________________________________\n",
      "activation_49 (Activation)   (None, 128)               0         \n",
      "_________________________________________________________________\n",
      "dropout_10 (Dropout)         (None, 128)               0         \n",
      "_________________________________________________________________\n",
      "dense_20 (Dense)             (None, 3)                 387       \n",
      "_________________________________________________________________\n",
      "activation_50 (Activation)   (None, 3)                 0         \n",
      "=================================================================\n",
      "Total params: 502,403\n",
      "Trainable params: 502,403\n",
      "Non-trainable params: 0\n",
      "_________________________________________________________________\n",
      "None\n",
      "502403\n",
      "Epoch 1/1\n",
      "50/50 [==============================] - ETA: 21s - loss: 1.0869 - acc: 0.37 - ETA: 18s - loss: 1.1322 - acc: 0.34 - ETA: 17s - loss: 1.1173 - acc: 0.37 - ETA: 16s - loss: 1.1293 - acc: 0.34 - ETA: 15s - loss: 1.1173 - acc: 0.38 - ETA: 15s - loss: 1.1157 - acc: 0.38 - ETA: 14s - loss: 1.1064 - acc: 0.38 - ETA: 14s - loss: 1.1177 - acc: 0.38 - ETA: 14s - loss: 1.1249 - acc: 0.35 - ETA: 13s - loss: 1.1309 - acc: 0.34 - ETA: 13s - loss: 1.1307 - acc: 0.34 - ETA: 13s - loss: 1.1290 - acc: 0.34 - ETA: 12s - loss: 1.1281 - acc: 0.34 - ETA: 12s - loss: 1.1299 - acc: 0.33 - ETA: 11s - loss: 1.1279 - acc: 0.33 - ETA: 11s - loss: 1.1253 - acc: 0.34 - ETA: 11s - loss: 1.1216 - acc: 0.34 - ETA: 10s - loss: 1.1182 - acc: 0.35 - ETA: 10s - loss: 1.1177 - acc: 0.36 - ETA: 10s - loss: 1.1144 - acc: 0.36 - ETA: 9s - loss: 1.1126 - acc: 0.3690 - ETA: 9s - loss: 1.1124 - acc: 0.369 - ETA: 9s - loss: 1.1124 - acc: 0.366 - ETA: 8s - loss: 1.1092 - acc: 0.375 - ETA: 8s - loss: 1.1096 - acc: 0.373 - ETA: 8s - loss: 1.1101 - acc: 0.373 - ETA: 7s - loss: 1.1098 - acc: 0.372 - ETA: 7s - loss: 1.1088 - acc: 0.376 - ETA: 7s - loss: 1.1090 - acc: 0.369 - ETA: 6s - loss: 1.1075 - acc: 0.372 - ETA: 6s - loss: 1.1077 - acc: 0.370 - ETA: 6s - loss: 1.1074 - acc: 0.366 - ETA: 5s - loss: 1.1077 - acc: 0.365 - ETA: 5s - loss: 1.1072 - acc: 0.364 - ETA: 5s - loss: 1.1072 - acc: 0.364 - ETA: 4s - loss: 1.1072 - acc: 0.362 - ETA: 4s - loss: 1.1067 - acc: 0.361 - ETA: 3s - loss: 1.1064 - acc: 0.360 - ETA: 3s - loss: 1.1063 - acc: 0.358 - ETA: 3s - loss: 1.1060 - acc: 0.359 - ETA: 2s - loss: 1.1061 - acc: 0.356 - ETA: 2s - loss: 1.1059 - acc: 0.356 - ETA: 2s - loss: 1.1057 - acc: 0.356 - ETA: 1s - loss: 1.1054 - acc: 0.357 - ETA: 1s - loss: 1.1052 - acc: 0.356 - ETA: 1s - loss: 1.1053 - acc: 0.354 - ETA: 0s - loss: 1.1050 - acc: 0.358 - ETA: 0s - loss: 1.1051 - acc: 0.358 - ETA: 0s - loss: 1.1051 - acc: 0.356 - 19s - loss: 1.1049 - acc: 0.3550 - val_loss: 1.0988 - val_acc: 0.3100\n",
      "_________________________________________________________________\n",
      "Layer (type)                 Output Shape              Param #   \n",
      "=================================================================\n",
      "conv2d_31 (Conv2D)           (None, 32, 32, 96)        2688      \n",
      "_________________________________________________________________\n",
      "activation_51 (Activation)   (None, 32, 32, 96)        0         \n",
      "_________________________________________________________________\n",
      "max_pooling2d_31 (MaxPooling (None, 16, 16, 96)        0         \n",
      "_________________________________________________________________\n",
      "conv2d_32 (Conv2D)           (None, 16, 16, 192)       166080    \n",
      "_________________________________________________________________\n",
      "activation_52 (Activation)   (None, 16, 16, 192)       0         \n",
      "_________________________________________________________________\n",
      "max_pooling2d_32 (MaxPooling (None, 8, 8, 192)         0         \n",
      "_________________________________________________________________\n",
      "conv2d_33 (Conv2D)           (None, 8, 8, 384)         663936    \n",
      "_________________________________________________________________\n",
      "activation_53 (Activation)   (None, 8, 8, 384)         0         \n",
      "_________________________________________________________________\n",
      "max_pooling2d_33 (MaxPooling (None, 4, 4, 384)         0         \n",
      "_________________________________________________________________\n",
      "average_pooling2d_11 (Averag (None, 2, 2, 384)         0         \n",
      "_________________________________________________________________\n",
      "flatten_11 (Flatten)         (None, 1536)              0         \n",
      "_________________________________________________________________\n",
      "dense_21 (Dense)             (None, 128)               196736    \n",
      "_________________________________________________________________\n",
      "activation_54 (Activation)   (None, 128)               0         \n",
      "_________________________________________________________________\n",
      "dropout_11 (Dropout)         (None, 128)               0         \n",
      "_________________________________________________________________\n",
      "dense_22 (Dense)             (None, 3)                 387       \n",
      "_________________________________________________________________\n",
      "activation_55 (Activation)   (None, 3)                 0         \n",
      "=================================================================\n",
      "Total params: 1,029,827\n",
      "Trainable params: 1,029,827\n",
      "Non-trainable params: 0\n",
      "_________________________________________________________________\n",
      "None\n",
      "1029827\n",
      "Epoch 1/1\n",
      "50/50 [==============================] - ETA: 36s - loss: 1.1063 - acc: 0.28 - ETA: 33s - loss: 1.2521 - acc: 0.25 - ETA: 32s - loss: 1.2109 - acc: 0.26 - ETA: 32s - loss: 1.1800 - acc: 0.28 - ETA: 31s - loss: 1.1624 - acc: 0.31 - ETA: 30s - loss: 1.1550 - acc: 0.31 - ETA: 28s - loss: 1.1449 - acc: 0.31 - ETA: 27s - loss: 1.1474 - acc: 0.32 - ETA: 26s - loss: 1.1375 - acc: 0.33 - ETA: 25s - loss: 1.1319 - acc: 0.34 - ETA: 24s - loss: 1.1341 - acc: 0.33 - ETA: 24s - loss: 1.1317 - acc: 0.33 - ETA: 23s - loss: 1.1321 - acc: 0.32 - ETA: 22s - loss: 1.1288 - acc: 0.32 - ETA: 21s - loss: 1.1270 - acc: 0.32 - ETA: 21s - loss: 1.1294 - acc: 0.31 - ETA: 20s - loss: 1.1284 - acc: 0.31 - ETA: 19s - loss: 1.1271 - acc: 0.31 - ETA: 19s - loss: 1.1268 - acc: 0.31 - ETA: 18s - loss: 1.1252 - acc: 0.32 - ETA: 17s - loss: 1.1238 - acc: 0.32 - ETA: 17s - loss: 1.1225 - acc: 0.33 - ETA: 16s - loss: 1.1213 - acc: 0.33 - ETA: 15s - loss: 1.1201 - acc: 0.32 - ETA: 15s - loss: 1.1191 - acc: 0.33 - ETA: 14s - loss: 1.1182 - acc: 0.34 - ETA: 13s - loss: 1.1172 - acc: 0.34 - ETA: 13s - loss: 1.1167 - acc: 0.34 - ETA: 12s - loss: 1.1160 - acc: 0.33 - ETA: 12s - loss: 1.1159 - acc: 0.33 - ETA: 11s - loss: 1.1152 - acc: 0.33 - ETA: 11s - loss: 1.1154 - acc: 0.33 - ETA: 10s - loss: 1.1146 - acc: 0.33 - ETA: 9s - loss: 1.1143 - acc: 0.3300 - ETA: 9s - loss: 1.1143 - acc: 0.327 - ETA: 8s - loss: 1.1142 - acc: 0.324 - ETA: 7s - loss: 1.1136 - acc: 0.323 - ETA: 7s - loss: 1.1130 - acc: 0.325 - ETA: 6s - loss: 1.1125 - acc: 0.327 - ETA: 6s - loss: 1.1125 - acc: 0.325 - ETA: 5s - loss: 1.1123 - acc: 0.327 - ETA: 4s - loss: 1.1117 - acc: 0.328 - ETA: 4s - loss: 1.1114 - acc: 0.327 - ETA: 3s - loss: 1.1117 - acc: 0.323 - ETA: 3s - loss: 1.1118 - acc: 0.321 - ETA: 2s - loss: 1.1114 - acc: 0.324 - ETA: 1s - loss: 1.1112 - acc: 0.322 - ETA: 1s - loss: 1.1108 - acc: 0.324 - ETA: 0s - loss: 1.1104 - acc: 0.327 - 35s - loss: 1.1102 - acc: 0.3287 - val_loss: 1.0993 - val_acc: 0.3100\n"
     ]
    }
   ],
   "source": [
    "# Train many models\n",
    "for filters in [1,2,4,8,16,32,48,64,96]:\n",
    "    modelid = \"filters{:03d}_timestamp{}\".format(filters,time.strftime(\"%Y%m%d%H%M%S\"))\n",
    "\n",
    "    callbacks_list = [\n",
    "        keras.callbacks.EarlyStopping(\n",
    "            monitor='val_acc',\n",
    "            patience=50),\n",
    "        keras.callbacks.ModelCheckpoint(\n",
    "            filepath='model_checkpoint_best_{}.h5'.format(modelid),\n",
    "            monitor='val_loss',\n",
    "            save_best_only=True),\n",
    "        keras.callbacks.TensorBoard(\n",
    "            log_dir='./logs/'+modelid,\n",
    "            histogram_freq=0, write_graph=False, write_images=False)\n",
    "    ]\n",
    "    \n",
    "    model = makeModel(filters)\n",
    "    print(model.summary())\n",
    "    print(model.count_params())\n",
    "\n",
    "    history=model.fit_generator(\n",
    "                        generator(dataset_tr, batch_size, patchsize),\n",
    "                        steps_per_epoch=50, \n",
    "                        epochs=1, \n",
    "                        verbose=1,\n",
    "                        validation_data=(X_test,y_test),\n",
    "                        callbacks=callbacks_list)\n",
    "    "
   ]
  },
  {
   "cell_type": "markdown",
   "metadata": {
    "slideshow": {
     "slide_type": "slide"
    }
   },
   "source": [
    "## Step 6: Process the images of the testing set one by one\n",
    "And visualize the results"
   ]
  },
  {
   "cell_type": "code",
   "execution_count": 28,
   "metadata": {},
   "outputs": [
    {
     "ename": "OSError",
     "evalue": "Unable to open file (Unable to open file: name = 'models/model_venus.model', errno = 2, error message = 'no such file or directory', flags = 0, o_flags = 0)",
     "output_type": "error",
     "traceback": [
      "\u001b[1;31m---------------------------------------------------------------------------\u001b[0m",
      "\u001b[1;31mOSError\u001b[0m                                   Traceback (most recent call last)",
      "\u001b[1;32m<ipython-input-28-dd3a97182d8c>\u001b[0m in \u001b[0;36m<module>\u001b[1;34m()\u001b[0m\n\u001b[0;32m      2\u001b[0m \u001b[0mmodelname\u001b[0m \u001b[1;33m=\u001b[0m \u001b[1;34m\"models/model_venus\"\u001b[0m\u001b[1;33m\u001b[0m\u001b[0m\n\u001b[0;32m      3\u001b[0m \u001b[1;33m\u001b[0m\u001b[0m\n\u001b[1;32m----> 4\u001b[1;33m \u001b[0mmodel\u001b[0m \u001b[1;33m=\u001b[0m \u001b[0mkeras\u001b[0m\u001b[1;33m.\u001b[0m\u001b[0mmodels\u001b[0m\u001b[1;33m.\u001b[0m\u001b[0mload_model\u001b[0m\u001b[1;33m(\u001b[0m\u001b[1;34m\"{}.model\"\u001b[0m\u001b[1;33m.\u001b[0m\u001b[0mformat\u001b[0m\u001b[1;33m(\u001b[0m\u001b[0mmodelname\u001b[0m\u001b[1;33m)\u001b[0m\u001b[1;33m)\u001b[0m\u001b[1;33m\u001b[0m\u001b[0m\n\u001b[0m\u001b[0;32m      5\u001b[0m \u001b[0mpatchsize\u001b[0m \u001b[1;33m=\u001b[0m \u001b[0mmodel\u001b[0m\u001b[1;33m.\u001b[0m\u001b[0minput\u001b[0m\u001b[1;33m.\u001b[0m\u001b[0mshape\u001b[0m\u001b[1;33m[\u001b[0m\u001b[1;36m1\u001b[0m\u001b[1;33m]\u001b[0m\u001b[1;33m.\u001b[0m\u001b[0mvalue\u001b[0m\u001b[1;33m\u001b[0m\u001b[0m\n\u001b[0;32m      6\u001b[0m \u001b[0mdataset_te\u001b[0m \u001b[1;33m=\u001b[0m \u001b[0mpd\u001b[0m\u001b[1;33m.\u001b[0m\u001b[0mread_pickle\u001b[0m\u001b[1;33m(\u001b[0m\u001b[1;34m\"{}.testingdata.pickle\"\u001b[0m\u001b[1;33m.\u001b[0m\u001b[0mformat\u001b[0m\u001b[1;33m(\u001b[0m\u001b[0mmodelname\u001b[0m\u001b[1;33m)\u001b[0m\u001b[1;33m)\u001b[0m\u001b[1;33m\u001b[0m\u001b[0m\n",
      "\u001b[1;32m~\\Anaconda3\\lib\\site-packages\\keras\\models.py\u001b[0m in \u001b[0;36mload_model\u001b[1;34m(filepath, custom_objects, compile)\u001b[0m\n\u001b[0;32m    225\u001b[0m             \u001b[1;32mreturn\u001b[0m \u001b[0mcustom_objects\u001b[0m\u001b[1;33m[\u001b[0m\u001b[0mobj\u001b[0m\u001b[1;33m]\u001b[0m\u001b[1;33m\u001b[0m\u001b[0m\n\u001b[0;32m    226\u001b[0m         \u001b[1;32mreturn\u001b[0m \u001b[0mobj\u001b[0m\u001b[1;33m\u001b[0m\u001b[0m\n\u001b[1;32m--> 227\u001b[1;33m     \u001b[1;32mwith\u001b[0m \u001b[0mh5py\u001b[0m\u001b[1;33m.\u001b[0m\u001b[0mFile\u001b[0m\u001b[1;33m(\u001b[0m\u001b[0mfilepath\u001b[0m\u001b[1;33m,\u001b[0m \u001b[0mmode\u001b[0m\u001b[1;33m=\u001b[0m\u001b[1;34m'r'\u001b[0m\u001b[1;33m)\u001b[0m \u001b[1;32mas\u001b[0m \u001b[0mf\u001b[0m\u001b[1;33m:\u001b[0m\u001b[1;33m\u001b[0m\u001b[0m\n\u001b[0m\u001b[0;32m    228\u001b[0m         \u001b[1;31m# instantiate model\u001b[0m\u001b[1;33m\u001b[0m\u001b[1;33m\u001b[0m\u001b[0m\n\u001b[0;32m    229\u001b[0m         \u001b[0mmodel_config\u001b[0m \u001b[1;33m=\u001b[0m \u001b[0mf\u001b[0m\u001b[1;33m.\u001b[0m\u001b[0mattrs\u001b[0m\u001b[1;33m.\u001b[0m\u001b[0mget\u001b[0m\u001b[1;33m(\u001b[0m\u001b[1;34m'model_config'\u001b[0m\u001b[1;33m)\u001b[0m\u001b[1;33m\u001b[0m\u001b[0m\n",
      "\u001b[1;32m~\\Anaconda3\\lib\\site-packages\\h5py\\_hl\\files.py\u001b[0m in \u001b[0;36m__init__\u001b[1;34m(self, name, mode, driver, libver, userblock_size, swmr, **kwds)\u001b[0m\n\u001b[0;32m    269\u001b[0m \u001b[1;33m\u001b[0m\u001b[0m\n\u001b[0;32m    270\u001b[0m                 \u001b[0mfapl\u001b[0m \u001b[1;33m=\u001b[0m \u001b[0mmake_fapl\u001b[0m\u001b[1;33m(\u001b[0m\u001b[0mdriver\u001b[0m\u001b[1;33m,\u001b[0m \u001b[0mlibver\u001b[0m\u001b[1;33m,\u001b[0m \u001b[1;33m**\u001b[0m\u001b[0mkwds\u001b[0m\u001b[1;33m)\u001b[0m\u001b[1;33m\u001b[0m\u001b[0m\n\u001b[1;32m--> 271\u001b[1;33m                 \u001b[0mfid\u001b[0m \u001b[1;33m=\u001b[0m \u001b[0mmake_fid\u001b[0m\u001b[1;33m(\u001b[0m\u001b[0mname\u001b[0m\u001b[1;33m,\u001b[0m \u001b[0mmode\u001b[0m\u001b[1;33m,\u001b[0m \u001b[0muserblock_size\u001b[0m\u001b[1;33m,\u001b[0m \u001b[0mfapl\u001b[0m\u001b[1;33m,\u001b[0m \u001b[0mswmr\u001b[0m\u001b[1;33m=\u001b[0m\u001b[0mswmr\u001b[0m\u001b[1;33m)\u001b[0m\u001b[1;33m\u001b[0m\u001b[0m\n\u001b[0m\u001b[0;32m    272\u001b[0m \u001b[1;33m\u001b[0m\u001b[0m\n\u001b[0;32m    273\u001b[0m                 \u001b[1;32mif\u001b[0m \u001b[0mswmr_support\u001b[0m\u001b[1;33m:\u001b[0m\u001b[1;33m\u001b[0m\u001b[0m\n",
      "\u001b[1;32m~\\Anaconda3\\lib\\site-packages\\h5py\\_hl\\files.py\u001b[0m in \u001b[0;36mmake_fid\u001b[1;34m(name, mode, userblock_size, fapl, fcpl, swmr)\u001b[0m\n\u001b[0;32m     99\u001b[0m         \u001b[1;32mif\u001b[0m \u001b[0mswmr\u001b[0m \u001b[1;32mand\u001b[0m \u001b[0mswmr_support\u001b[0m\u001b[1;33m:\u001b[0m\u001b[1;33m\u001b[0m\u001b[0m\n\u001b[0;32m    100\u001b[0m             \u001b[0mflags\u001b[0m \u001b[1;33m|=\u001b[0m \u001b[0mh5f\u001b[0m\u001b[1;33m.\u001b[0m\u001b[0mACC_SWMR_READ\u001b[0m\u001b[1;33m\u001b[0m\u001b[0m\n\u001b[1;32m--> 101\u001b[1;33m         \u001b[0mfid\u001b[0m \u001b[1;33m=\u001b[0m \u001b[0mh5f\u001b[0m\u001b[1;33m.\u001b[0m\u001b[0mopen\u001b[0m\u001b[1;33m(\u001b[0m\u001b[0mname\u001b[0m\u001b[1;33m,\u001b[0m \u001b[0mflags\u001b[0m\u001b[1;33m,\u001b[0m \u001b[0mfapl\u001b[0m\u001b[1;33m=\u001b[0m\u001b[0mfapl\u001b[0m\u001b[1;33m)\u001b[0m\u001b[1;33m\u001b[0m\u001b[0m\n\u001b[0m\u001b[0;32m    102\u001b[0m     \u001b[1;32melif\u001b[0m \u001b[0mmode\u001b[0m \u001b[1;33m==\u001b[0m \u001b[1;34m'r+'\u001b[0m\u001b[1;33m:\u001b[0m\u001b[1;33m\u001b[0m\u001b[0m\n\u001b[0;32m    103\u001b[0m         \u001b[0mfid\u001b[0m \u001b[1;33m=\u001b[0m \u001b[0mh5f\u001b[0m\u001b[1;33m.\u001b[0m\u001b[0mopen\u001b[0m\u001b[1;33m(\u001b[0m\u001b[0mname\u001b[0m\u001b[1;33m,\u001b[0m \u001b[0mh5f\u001b[0m\u001b[1;33m.\u001b[0m\u001b[0mACC_RDWR\u001b[0m\u001b[1;33m,\u001b[0m \u001b[0mfapl\u001b[0m\u001b[1;33m=\u001b[0m\u001b[0mfapl\u001b[0m\u001b[1;33m)\u001b[0m\u001b[1;33m\u001b[0m\u001b[0m\n",
      "\u001b[1;32mh5py\\_objects.pyx\u001b[0m in \u001b[0;36mh5py._objects.with_phil.wrapper (C:\\Minonda\\conda-bld\\h5py_1490029679460\\work\\h5py\\_objects.c:2867)\u001b[1;34m()\u001b[0m\n",
      "\u001b[1;32mh5py\\_objects.pyx\u001b[0m in \u001b[0;36mh5py._objects.with_phil.wrapper (C:\\Minonda\\conda-bld\\h5py_1490029679460\\work\\h5py\\_objects.c:2825)\u001b[1;34m()\u001b[0m\n",
      "\u001b[1;32mh5py\\h5f.pyx\u001b[0m in \u001b[0;36mh5py.h5f.open (C:\\Minonda\\conda-bld\\h5py_1490029679460\\work\\h5py\\h5f.c:2140)\u001b[1;34m()\u001b[0m\n",
      "\u001b[1;31mOSError\u001b[0m: Unable to open file (Unable to open file: name = 'models/model_venus.model', errno = 2, error message = 'no such file or directory', flags = 0, o_flags = 0)"
     ]
    }
   ],
   "source": [
    "# Optionally, load a saved model and testing dataset\n",
    "modelname = \"models/model_venus\"\n",
    "\n",
    "model = keras.models.load_model(\"{}.model\".format(modelname))\n",
    "patchsize = model.input.shape[1].value\n",
    "dataset_te = pd.read_pickle(\"{}.testingdata.pickle\".format(modelname))"
   ]
  },
  {
   "cell_type": "code",
   "execution_count": 29,
   "metadata": {
    "slideshow": {
     "slide_type": "slide"
    }
   },
   "outputs": [
    {
     "data": {
      "application/vnd.jupyter.widget-view+json": {
       "model_id": "f1e27f5d0ca94cc29799a34c2ef1576d"
      }
     },
     "metadata": {},
     "output_type": "display_data"
    },
    {
     "data": {
      "text/plain": [
       "<function __main__.resultsShow>"
      ]
     },
     "execution_count": 29,
     "metadata": {},
     "output_type": "execute_result"
    }
   ],
   "source": [
    "# Show results by processing a single variation of the testing image\n",
    "import warnings\n",
    "\n",
    "%matplotlib inline\n",
    "def resultsShow(i, data, model):\n",
    "    d = data.iloc[i]\n",
    "    im = d[\"image\"]\n",
    "    l = d[\"label\"]\n",
    "    fig,axs = plt.subplots(nrows=1,ncols=3,figsize=(15,5),gridspec_kw={'width_ratios':[1,1,0.5]})\n",
    "    \n",
    "    imt = transform_simple(im, patchsize)\n",
    "    axs[0].imshow(im)\n",
    "    axs[0].set_title(\"Image (true class: {})\".format(names[l]))\n",
    "    \n",
    "    axs[1].imshow(imt,interpolation=\"nearest\")\n",
    "    axs[1].set_title(\"Network input\")\n",
    "    \n",
    "    outs = model.predict(np.array([imt]))\n",
    "    print(outs)\n",
    "    predicted = np.argmax(outs)\n",
    "    axs[2].bar(np.array(range(len(names))), outs[0,:], 1, color=\"gray\")\n",
    "    axs[2].set_ylim([0,1])\n",
    "    axs[2].set_xticks(range(len(names)))\n",
    "    axs[2].set_xticklabels(names)\n",
    "    axs[2].set_ylabel(\"probability\")\n",
    "    axs[2].set_xlabel(\"class\")\n",
    "    axs[2].set_title(\"Network output\")\n",
    "    fig.tight_layout()\n",
    "    plt.show()\n",
    "    fig.savefig(\"out_{:05d}_{}.png\".format(i,(\"ok\" if predicted==l else \"ko\")))\n",
    "    print(outs)\n",
    "\n",
    "interact(resultsShow, i=widgets.IntSlider(min=0,max=len(dataset_te)-1, step=1, value=0, continuous_update=False), data=fixed(dataset_te.sample(len(dataset_te))), model=fixed(model))\n"
   ]
  },
  {
   "cell_type": "markdown",
   "metadata": {
    "slideshow": {
     "slide_type": "slide"
    }
   },
   "source": [
    "## Let's visualize the filters learned by the NN"
   ]
  },
  {
   "cell_type": "code",
   "execution_count": null,
   "metadata": {
    "collapsed": true,
    "slideshow": {
     "slide_type": "-"
    }
   },
   "outputs": [],
   "source": [
    "model.summary()"
   ]
  },
  {
   "cell_type": "code",
   "execution_count": 30,
   "metadata": {},
   "outputs": [
    {
     "data": {
      "text/plain": [
       "array([[-0.01834862,  0.05605864,  0.00571502],\n",
       "       [ 0.05709265,  0.05401556, -0.07759799],\n",
       "       [-0.01569602, -0.0516046 ,  0.07389094]], dtype=float32)"
      ]
     },
     "execution_count": 30,
     "metadata": {},
     "output_type": "execute_result"
    }
   ],
   "source": [
    "model.layers[0].get_weights()[0][:,:,1,0]"
   ]
  },
  {
   "cell_type": "code",
   "execution_count": 31,
   "metadata": {
    "slideshow": {
     "slide_type": "slide"
    }
   },
   "outputs": [
    {
     "ename": "IndexError",
     "evalue": "list index out of range",
     "output_type": "error",
     "traceback": [
      "\u001b[1;31m---------------------------------------------------------------------------\u001b[0m",
      "\u001b[1;31mIndexError\u001b[0m                                Traceback (most recent call last)",
      "\u001b[1;32m<ipython-input-31-4e3620ba1b6d>\u001b[0m in \u001b[0;36m<module>\u001b[1;34m()\u001b[0m\n\u001b[0;32m      1\u001b[0m \u001b[1;31m# Visualize filters in a layer\u001b[0m\u001b[1;33m\u001b[0m\u001b[1;33m\u001b[0m\u001b[0m\n\u001b[0;32m      2\u001b[0m \u001b[1;32mimport\u001b[0m \u001b[0mitertools\u001b[0m\u001b[1;33m\u001b[0m\u001b[0m\n\u001b[1;32m----> 3\u001b[1;33m \u001b[0mfilters\u001b[0m \u001b[1;33m=\u001b[0m \u001b[0mmodel\u001b[0m\u001b[1;33m.\u001b[0m\u001b[0mlayers\u001b[0m\u001b[1;33m[\u001b[0m\u001b[1;36m2\u001b[0m\u001b[1;33m]\u001b[0m\u001b[1;33m.\u001b[0m\u001b[0mget_weights\u001b[0m\u001b[1;33m(\u001b[0m\u001b[1;33m)\u001b[0m\u001b[1;33m[\u001b[0m\u001b[1;36m0\u001b[0m\u001b[1;33m]\u001b[0m\u001b[1;33m\u001b[0m\u001b[0m\n\u001b[0m\u001b[0;32m      4\u001b[0m \u001b[0mfilters\u001b[0m\u001b[1;33m.\u001b[0m\u001b[0mshape\u001b[0m\u001b[1;33m\u001b[0m\u001b[0m\n\u001b[0;32m      5\u001b[0m \u001b[0mfig\u001b[0m\u001b[1;33m,\u001b[0m \u001b[0maxs\u001b[0m \u001b[1;33m=\u001b[0m \u001b[0mplt\u001b[0m\u001b[1;33m.\u001b[0m\u001b[0msubplots\u001b[0m\u001b[1;33m(\u001b[0m\u001b[0mnrows\u001b[0m \u001b[1;33m=\u001b[0m \u001b[0mfilters\u001b[0m\u001b[1;33m.\u001b[0m\u001b[0mshape\u001b[0m\u001b[1;33m[\u001b[0m\u001b[1;36m2\u001b[0m\u001b[1;33m]\u001b[0m\u001b[1;33m,\u001b[0m \u001b[0mncols\u001b[0m \u001b[1;33m=\u001b[0m \u001b[0mfilters\u001b[0m\u001b[1;33m.\u001b[0m\u001b[0mshape\u001b[0m\u001b[1;33m[\u001b[0m\u001b[1;36m3\u001b[0m\u001b[1;33m]\u001b[0m\u001b[1;33m,\u001b[0m \u001b[0mfigsize\u001b[0m\u001b[1;33m=\u001b[0m\u001b[1;33m(\u001b[0m\u001b[1;36m20\u001b[0m\u001b[1;33m,\u001b[0m\u001b[1;36m10\u001b[0m\u001b[1;33m)\u001b[0m\u001b[1;33m)\u001b[0m\u001b[1;33m\u001b[0m\u001b[0m\n",
      "\u001b[1;31mIndexError\u001b[0m: list index out of range"
     ]
    }
   ],
   "source": [
    "# Visualize filters in a layer\n",
    "import itertools\n",
    "filters = model.layers[2].get_weights()[0]\n",
    "filters.shape\n",
    "fig, axs = plt.subplots(nrows = filters.shape[2], ncols = filters.shape[3], figsize=(20,10))\n",
    "for i,j in itertools.product(range(filters.shape[2]),range(filters.shape[3])):\n",
    "    axs[i,j].imshow(filters[:,:,i,j],vmin=-0.5,vmax=+0.5,cmap=\"gray\")\n",
    "    axs[i,j].axis(\"off\")"
   ]
  },
  {
   "cell_type": "markdown",
   "metadata": {
    "slideshow": {
     "slide_type": "slide"
    }
   },
   "source": [
    "## Let's visualize the activations in the intermediate layers"
   ]
  },
  {
   "cell_type": "code",
   "execution_count": 32,
   "metadata": {},
   "outputs": [
    {
     "data": {
      "image/png": "[encoded data removed]",
      "text/plain": [
       "<matplotlib.figure.Figure at 0x259d8a7cb00>"
      ]
     },
     "metadata": {},
     "output_type": "display_data"
    }
   ],
   "source": [
    "from keras import backend as K\n",
    "\n",
    "def plot_hidden_layers(imt,nmaps=4):\n",
    "    fig = plt.figure(figsize=(15, 10))\n",
    "    plt.title('Hidden layers', loc='center')\n",
    "    plt.axis('off')\n",
    "    layers = [model.layers[0].input] + [model.layers[i].output for i in [0,2,5,7,9]]\n",
    "    for layeri,layer in enumerate(layers):\n",
    "        get = K.function([model.layers[0].input], [layer])\n",
    "        layeroutputs = get([imt[np.newaxis,:,:,:]])[0][0]\n",
    "        for j in range(nmaps): # for each map\n",
    "            sp2=fig.add_subplot(nmaps,len(layers),layeri+1+j*len(layers))\n",
    "            sp2.axis('off')\n",
    "            if (layeroutputs.shape[2]>j):\n",
    "                vmin,vmax = ((0,1) if layeri == 0 else (-0.3,+0.3))\n",
    "                sp2.imshow(layeroutputs[:,:,j],\n",
    "                           cmap=\"gray\",\n",
    "                           interpolation=\"nearest\")\n",
    "    fig.tight_layout()\n",
    "\n",
    "imt=transform(dataset_te[\"image\"].iloc[0],patchsize)\n",
    "plot_hidden_layers(imt)\n"
   ]
  },
  {
   "cell_type": "markdown",
   "metadata": {
    "slideshow": {
     "slide_type": "slide"
    }
   },
   "source": [
    "## Visualization 2: Input that maximizes a neuron (or map)\n",
    "We now use gradient descent to find an input image maximizing a neuron or internal map"
   ]
  },
  {
   "cell_type": "code",
   "execution_count": 18,
   "metadata": {},
   "outputs": [
    {
     "name": "stderr",
     "output_type": "stream",
     "text": [
      "C:\\Users\\Fabrizio\\Anaconda3\\lib\\site-packages\\keras\\models.py:281: UserWarning: Error in loading the saved optimizer state. As a result, your model is starting with a freshly initialized optimizer.\n",
      "  warnings.warn('Error in loading the saved optimizer '\n"
     ]
    },
    {
     "data": {
      "image/png": "[encoded data removed]",
      "text/plain": [
       "<matplotlib.figure.Figure at 0x24f5a99cf60>"
      ]
     },
     "metadata": {},
     "output_type": "display_data"
    },
    {
     "name": "stderr",
     "output_type": "stream",
     "text": [
      "\r",
      "  0%|          | 0/10 [00:00<?, ?it/s]"
     ]
    },
    {
     "name": "stdout",
     "output_type": "stream",
     "text": [
      "0\n",
      "0\n"
     ]
    },
    {
     "data": {
      "image/png": "[encoded data removed]",
      "text/plain": [
       "<matplotlib.figure.Figure at 0x24f56d29048>"
      ]
     },
     "metadata": {},
     "output_type": "display_data"
    },
    {
     "name": "stderr",
     "output_type": "stream",
     "text": [
      "\r",
      " 10%|█         | 1/10 [00:01<00:10,  1.21s/it]"
     ]
    },
    {
     "name": "stdout",
     "output_type": "stream",
     "text": [
      "0\n",
      "1\n"
     ]
    },
    {
     "name": "stderr",
     "output_type": "stream",
     "text": [
      "\r",
      " 20%|██        | 2/10 [00:01<00:06,  1.17it/s]"
     ]
    },
    {
     "name": "stdout",
     "output_type": "stream",
     "text": [
      "0\n",
      "2\n"
     ]
    },
    {
     "name": "stderr",
     "output_type": "stream",
     "text": [
      "\r",
      " 30%|███       | 3/10 [00:02<00:05,  1.35it/s]"
     ]
    },
    {
     "name": "stdout",
     "output_type": "stream",
     "text": [
      "0\n",
      "3\n"
     ]
    },
    {
     "name": "stderr",
     "output_type": "stream",
     "text": [
      "\r",
      " 40%|████      | 4/10 [00:02<00:04,  1.47it/s]"
     ]
    },
    {
     "name": "stdout",
     "output_type": "stream",
     "text": [
      "0\n",
      "4\n"
     ]
    },
    {
     "name": "stderr",
     "output_type": "stream",
     "text": [
      "\r",
      " 50%|█████     | 5/10 [00:03<00:03,  1.57it/s]"
     ]
    },
    {
     "name": "stdout",
     "output_type": "stream",
     "text": [
      "1\n",
      "0\n"
     ]
    },
    {
     "name": "stderr",
     "output_type": "stream",
     "text": [
      "\r",
      " 60%|██████    | 6/10 [00:03<00:02,  1.64it/s]"
     ]
    },
    {
     "name": "stdout",
     "output_type": "stream",
     "text": [
      "1\n",
      "1\n"
     ]
    },
    {
     "name": "stderr",
     "output_type": "stream",
     "text": [
      "\r",
      " 70%|███████   | 7/10 [00:04<00:01,  1.62it/s]"
     ]
    },
    {
     "name": "stdout",
     "output_type": "stream",
     "text": [
      "1\n",
      "2\n"
     ]
    },
    {
     "name": "stderr",
     "output_type": "stream",
     "text": [
      "\r",
      " 80%|████████  | 8/10 [00:04<00:01,  1.62it/s]"
     ]
    },
    {
     "name": "stdout",
     "output_type": "stream",
     "text": [
      "1\n",
      "3\n"
     ]
    },
    {
     "name": "stderr",
     "output_type": "stream",
     "text": [
      "\r",
      " 90%|█████████ | 9/10 [00:05<00:00,  1.61it/s]"
     ]
    },
    {
     "name": "stdout",
     "output_type": "stream",
     "text": [
      "1\n",
      "4\n"
     ]
    },
    {
     "name": "stderr",
     "output_type": "stream",
     "text": [
      "100%|██████████| 10/10 [00:06<00:00,  1.58it/s]\n"
     ]
    }
   ],
   "source": [
    "# load the network\n",
    "model_name=\"rps.model\"\n",
    "model = keras.models.load_model(model_name)\n",
    "patchsize=64\n",
    "\n",
    "def makeinputmaximizing(loss, gradstep = 0.01, steps = 20):\n",
    "    grads = K.gradients(loss, model.input)[0]\n",
    "#    grads /= K.sqrt(K.mean(K.square(grads)) + 1e-5)\n",
    "    iterate = K.function([model.input, K.learning_phase()],[loss, grads])\n",
    "\n",
    "    # img = transform_simple(dataset_te[\"image\"].iloc[0],patchsize)[np.newaxis,:,:,:]\n",
    "    img = 0.5+0.01*np.random.rand(1,patchsize,patchsize,3)\n",
    "    \n",
    "    for i in range(steps):\n",
    "        loss_value, grads_value = iterate([img, 1])\n",
    "        if np.max(grads_value)>0:\n",
    "            gradstep=1/np.max(grads_value)\n",
    "        img += grads_value * gradstep\n",
    "        img = np.clip(img,0,1)\n",
    "    return img[0,:,:,:]\n",
    "\n",
    "plt.imshow(makeinputmaximizing(model.layers[4].output[0,8,2], steps = 100, gradstep = 0.1))\n",
    "plt.show()\n",
    "\n",
    "import tqdm\n",
    "import itertools\n",
    "out = model.layers[6].output\n",
    "fig, axs = plt.subplots(nrows = 2, ncols = 5, figsize=(20,5), squeeze = False)\n",
    "for i,j in tqdm.tqdm(list(itertools.product(range(axs.shape[0]), range(axs.shape[1])))):\n",
    "    print (i)\n",
    "    print (j)\n",
    "    loss = K.mean(out[0,j])\n",
    "    img = makeinputmaximizing(loss, gradstep = 0.03, steps = 20)\n",
    "    \n",
    "    axs[i,j].imshow(img)\n",
    "    axs[i,j].axis(\"off\")\n",
    "    plt.show()    \n"
   ]
  },
  {
   "cell_type": "markdown",
   "metadata": {
    "slideshow": {
     "slide_type": "slide"
    }
   },
   "source": [
    "## Visualization 3: Let us look for an 'ideal' rock/paper/scissors"
   ]
  },
  {
   "cell_type": "code",
   "execution_count": 15,
   "metadata": {},
   "outputs": [
    {
     "name": "stdout",
     "output_type": "stream",
     "text": [
      "_________________________________________________________________\n",
      "Layer (type)                 Output Shape              Param #   \n",
      "=================================================================\n",
      "conv2d_9 (Conv2D)            (None, 62, 62, 5)         140       \n",
      "_________________________________________________________________\n",
      "activation_13 (Activation)   (None, 62, 62, 5)         0         \n",
      "_________________________________________________________________\n",
      "conv2d_10 (Conv2D)           (None, 60, 60, 5)         230       \n",
      "_________________________________________________________________\n",
      "activation_14 (Activation)   (None, 60, 60, 5)         0         \n",
      "_________________________________________________________________\n",
      "max_pooling2d_7 (MaxPooling2 (None, 30, 30, 5)         0         \n",
      "_________________________________________________________________\n",
      "conv2d_11 (Conv2D)           (None, 28, 28, 5)         230       \n",
      "_________________________________________________________________\n",
      "activation_15 (Activation)   (None, 28, 28, 5)         0         \n",
      "_________________________________________________________________\n",
      "max_pooling2d_8 (MaxPooling2 (None, 14, 14, 5)         0         \n",
      "_________________________________________________________________\n",
      "conv2d_12 (Conv2D)           (None, 12, 12, 5)         230       \n",
      "_________________________________________________________________\n",
      "activation_16 (Activation)   (None, 12, 12, 5)         0         \n",
      "_________________________________________________________________\n",
      "max_pooling2d_9 (MaxPooling2 (None, 6, 6, 5)           0         \n",
      "_________________________________________________________________\n",
      "flatten_3 (Flatten)          (None, 180)               0         \n",
      "_________________________________________________________________\n",
      "dense_5 (Dense)              (None, 128)               23168     \n",
      "_________________________________________________________________\n",
      "activation_17 (Activation)   (None, 128)               0         \n",
      "_________________________________________________________________\n",
      "dropout_3 (Dropout)          (None, 128)               0         \n",
      "_________________________________________________________________\n",
      "dense_6 (Dense)              (None, 3)                 387       \n",
      "_________________________________________________________________\n",
      "activation_18 (Activation)   (None, 3)                 0         \n",
      "=================================================================\n",
      "Total params: 24,385\n",
      "Trainable params: 24,385\n",
      "Non-trainable params: 0\n",
      "_________________________________________________________________\n",
      "None\n"
     ]
    },
    {
     "ename": "NameError",
     "evalue": "name 'makeinputmaximizing' is not defined",
     "output_type": "error",
     "traceback": [
      "\u001b[1;31m---------------------------------------------------------------------------\u001b[0m",
      "\u001b[1;31mNameError\u001b[0m                                 Traceback (most recent call last)",
      "\u001b[1;32m<ipython-input-15-979fad477c78>\u001b[0m in \u001b[0;36m<module>\u001b[1;34m()\u001b[0m\n\u001b[0;32m      5\u001b[0m \u001b[1;32mfor\u001b[0m \u001b[0mk\u001b[0m \u001b[1;32min\u001b[0m \u001b[0mrange\u001b[0m\u001b[1;33m(\u001b[0m\u001b[1;36m3\u001b[0m\u001b[1;33m)\u001b[0m\u001b[1;33m:\u001b[0m\u001b[1;33m\u001b[0m\u001b[0m\n\u001b[0;32m      6\u001b[0m     \u001b[0mloss\u001b[0m \u001b[1;33m=\u001b[0m \u001b[0mmodel\u001b[0m\u001b[1;33m.\u001b[0m\u001b[0moutput\u001b[0m\u001b[1;33m[\u001b[0m\u001b[1;36m0\u001b[0m\u001b[1;33m,\u001b[0m\u001b[0mk\u001b[0m\u001b[1;33m]\u001b[0m\u001b[1;33m\u001b[0m\u001b[0m\n\u001b[1;32m----> 7\u001b[1;33m     \u001b[0mfinal_output\u001b[0m\u001b[1;33m[\u001b[0m\u001b[1;36m0\u001b[0m\u001b[1;33m+\u001b[0m\u001b[0mk\u001b[0m\u001b[1;33m*\u001b[0m\u001b[1;33m(\u001b[0m\u001b[0mpatchsize\u001b[0m\u001b[1;33m+\u001b[0m\u001b[1;36m1\u001b[0m\u001b[1;33m)\u001b[0m\u001b[1;33m:\u001b[0m\u001b[0mpatchsize\u001b[0m\u001b[1;33m+\u001b[0m\u001b[0mk\u001b[0m\u001b[1;33m+\u001b[0m\u001b[0mk\u001b[0m\u001b[1;33m*\u001b[0m\u001b[0mpatchsize\u001b[0m\u001b[1;33m,\u001b[0m\u001b[1;36m0\u001b[0m\u001b[1;33m:\u001b[0m\u001b[0mpatchsize\u001b[0m\u001b[1;33m]\u001b[0m\u001b[1;33m=\u001b[0m\u001b[0mmakeinputmaximizing\u001b[0m\u001b[1;33m(\u001b[0m\u001b[0mloss\u001b[0m\u001b[1;33m,\u001b[0m \u001b[0mgradstep\u001b[0m\u001b[1;33m=\u001b[0m\u001b[1;36m0.01\u001b[0m\u001b[1;33m,\u001b[0m \u001b[0msteps\u001b[0m\u001b[1;33m=\u001b[0m\u001b[1;36m100\u001b[0m\u001b[1;33m)\u001b[0m\u001b[1;33m\u001b[0m\u001b[0m\n\u001b[0m\u001b[0;32m      8\u001b[0m \u001b[0mplt\u001b[0m\u001b[1;33m.\u001b[0m\u001b[0mimshow\u001b[0m\u001b[1;33m(\u001b[0m\u001b[0mfinal_output\u001b[0m\u001b[1;33m[\u001b[0m\u001b[1;33m:\u001b[0m\u001b[1;33m,\u001b[0m\u001b[1;33m:\u001b[0m\u001b[1;33m,\u001b[0m\u001b[1;33m:\u001b[0m\u001b[1;33m]\u001b[0m\u001b[1;33m,\u001b[0m \u001b[0mvmin\u001b[0m\u001b[1;33m=\u001b[0m\u001b[1;36m0\u001b[0m\u001b[1;33m,\u001b[0m \u001b[0mvmax\u001b[0m\u001b[1;33m=\u001b[0m\u001b[1;36m1\u001b[0m\u001b[1;33m)\u001b[0m\u001b[1;33m\u001b[0m\u001b[0m\n\u001b[0;32m      9\u001b[0m \u001b[0mplt\u001b[0m\u001b[1;33m.\u001b[0m\u001b[0mshow\u001b[0m\u001b[1;33m(\u001b[0m\u001b[1;33m)\u001b[0m\u001b[1;33m\u001b[0m\u001b[0m\n",
      "\u001b[1;31mNameError\u001b[0m: name 'makeinputmaximizing' is not defined"
     ]
    }
   ],
   "source": [
    "patchsize=64\n",
    "print(model.summary())\n",
    "final_output=np.zeros((patchsize*3+2, patchsize, 3))\n",
    "\n",
    "for k in range(3):\n",
    "    loss = model.output[0,k]        \n",
    "    final_output[0+k*(patchsize+1):patchsize+k+k*patchsize,0:patchsize]=makeinputmaximizing(loss, gradstep=0.01, steps=100)\n",
    "plt.imshow(final_output[:,:,:], vmin=0, vmax=1)\n",
    "plt.show()\n"
   ]
  },
  {
   "cell_type": "markdown",
   "metadata": {
    "slideshow": {
     "slide_type": "slide"
    }
   },
   "source": [
    "# Visualization 4: Heatmap\n",
    "Let us try to highlight the portions of the input image that most influence the classification decision. This technique also allows one to locate an object in an image.\n",
    "- First, we feed an image of a paper gesture to the network;\n",
    "- Second, we assign to each channel in the output of the last convolution a value corresponding ot its contribution to the class \"paper\";\n",
    "- Third, we consider which parts in the input image activate the channels that lead to the decision: this is a paper. "
   ]
  },
  {
   "cell_type": "code",
   "execution_count": 13,
   "metadata": {},
   "outputs": [
    {
     "name": "stderr",
     "output_type": "stream",
     "text": [
      "C:\\Users\\Fabrizio\\Anaconda3\\lib\\site-packages\\keras\\models.py:281: UserWarning: Error in loading the saved optimizer state. As a result, your model is starting with a freshly initialized optimizer.\n",
      "  warnings.warn('Error in loading the saved optimizer '\n"
     ]
    },
    {
     "data": {
      "image/png": "[encoded data removed]",
      "text/plain": [
       "<matplotlib.figure.Figure at 0x24f5118feb8>"
      ]
     },
     "metadata": {},
     "output_type": "display_data"
    },
    {
     "data": {
      "image/png": "[encoded data removed]",
      "text/plain": [
       "<matplotlib.figure.Figure at 0x24f55253400>"
      ]
     },
     "metadata": {},
     "output_type": "display_data"
    }
   ],
   "source": [
    "import numpy as np\n",
    "import matplotlib.pyplot as plt\n",
    "import skimage\n",
    "import skimage.viewer\n",
    "import cv2\n",
    "import keras\n",
    "from keras import backend as K\n",
    "from keras import layers\n",
    "\n",
    "# load the network\n",
    "model_name=\"rps.model\"\n",
    "model = keras.models.load_model(model_name)\n",
    "\n",
    "# load an input image\n",
    "img=skimage.img_as_float(skimage.io.imread(\"paper.jpg\"))\n",
    "img=np.expand_dims(img, axis=0)\n",
    "\n",
    "# predict its class\n",
    "preds=model.predict(img)\n",
    "output=model.output[:, np.argmax(preds[0])]\n",
    "\n",
    "# find the last convolutional layer\n",
    "for layer in model.layers:\n",
    "    if isinstance(layer, layers.Conv2D):\n",
    "        layer_name=layer.name\n",
    "        layer_filters=layer.filters\n",
    "last_conv_layer=model.get_layer(layer_name)\n",
    "\n",
    "# compute the gradient of the output wrt to last convolutional layer\n",
    "gradient=K.mean(K.gradients(output, last_conv_layer.output)[0], axis=(0, 1, 2))\n",
    "function=K.function([model.input, K.learning_phase()], [gradient, last_conv_layer.output[0]])\n",
    "map_weights, pixel_values = function([img, 1])\n",
    "\n",
    "# multiply it by the pixel values of the last convolutional layer\n",
    "for i in range(layer_filters):\n",
    "    pixel_values[:,:,i] *= map_weights[i]\n",
    "\n",
    "# postprocess the heatmap\n",
    "heatmap = np.mean(pixel_values[:,:,:], axis=-1)\n",
    "heatmap = np.maximum(heatmap, 0)\n",
    "heatmap /= np.max(heatmap)\n",
    "    \n",
    "# visualize it\n",
    "img=cv2.imread('paper.jpg')\n",
    "heatmap=cv2.resize(heatmap, (img.shape[1], img.shape[0]))\n",
    "heatmap=np.uint8(255 * heatmap)\n",
    "heatmap = cv2.applyColorMap(heatmap, cv2.COLORMAP_JET)\n",
    "plt.imshow(img)\n",
    "plt.show()\n",
    "plt.imshow(heatmap)\n",
    "plt.show()\n"
   ]
  },
  {
   "cell_type": "code",
   "execution_count": null,
   "metadata": {
    "collapsed": true
   },
   "outputs": [],
   "source": []
  }
 ],
 "metadata": {
  "celltoolbar": "Slideshow",
  "kernelspec": {
   "display_name": "Python 3",
   "language": "python",
   "name": "python3"
  },
  "language_info": {
   "codemirror_mode": {
    "name": "ipython",
    "version": 3
   },
   "file_extension": ".py",
   "mimetype": "text/x-python",
   "name": "python",
   "nbconvert_exporter": "python",
   "pygments_lexer": "ipython3",
   "version": "3.5.3"
  },
  "livereveal": {
   "scroll": true
  }
 },
 "nbformat": 4,
 "nbformat_minor": 2
}
